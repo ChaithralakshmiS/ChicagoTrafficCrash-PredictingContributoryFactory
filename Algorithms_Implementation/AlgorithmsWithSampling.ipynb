{
 "cells": [
  {
   "cell_type": "markdown",
   "metadata": {},
   "source": [
    "###### Importing libraries"
   ]
  },
  {
   "cell_type": "code",
   "execution_count": 33,
   "metadata": {},
   "outputs": [],
   "source": [
    "import pandas as pd\n",
    "import numpy as np\n",
    "import time\n",
    "\n",
    "# matplotlib\n",
    "import matplotlib.pyplot as plt\n",
    "import matplotlib.image as mpimg\n",
    "from matplotlib.colors import ListedColormap\n",
    "\n",
    "#sklearn\n",
    "from sklearn import datasets, svm, metrics,tree\n",
    "from sklearn.datasets import make_classification\n",
    "from sklearn.model_selection import train_test_split\n",
    "#preprocessing\n",
    "from sklearn.preprocessing import StandardScaler,normalize\n",
    "# Dimenionality Reduction\n",
    "from sklearn.decomposition import PCA\n",
    "from sklearn.discriminant_analysis import LinearDiscriminantAnalysis as LDA\n",
    "from sklearn import random_projection\n",
    "#Feature selection\n",
    "from sklearn.feature_selection import VarianceThreshold\n",
    "#Under sampling\n",
    "#from imblearn.under_sampling import RandomUnderSampler\n",
    "#Over sampling\n",
    "#from imblearn.over_sampling import SMOTE, BorderlineSMOTE, SVMSMOTE, SMOTENC,RandomOverSampler\n",
    "#Combined sampling\n",
    "#from imblearn.combine import SMOTETomek\n",
    "#Algorithms\n",
    "from sklearn.neighbors import KNeighborsClassifier\n",
    "from sklearn.ensemble import VotingClassifier,AdaBoostClassifier,RandomForestClassifier,ExtraTreesClassifier,GradientBoostingClassifier,GradientBoostingRegressor\n",
    "from sklearn.tree import DecisionTreeClassifier\n",
    "from sklearn.naive_bayes import BernoulliNB,GaussianNB\n",
    "from sklearn.neural_network import MLPClassifier\n",
    "from sklearn.ensemble import BaggingClassifier\n",
    "from sklearn.discriminant_analysis import LinearDiscriminantAnalysis\n",
    "from sklearn.linear_model import LogisticRegression,RidgeClassifier,Perceptron,PassiveAggressiveClassifier,RidgeClassifierCV\n",
    "from sklearn.svm import SVC\n",
    "from sklearn.decomposition import TruncatedSVD\n",
    "from sklearn.utils import resample\n",
    "from sklearn.pipeline import *\n",
    "from sklearn import metrics\n",
    "from sklearn.metrics import f1_score,confusion_matrix,classification_report,make_scorer,average_precision_score,precision_recall_curve\n",
    "\n",
    "#import pandas_ml as pdml\n",
    "\n",
    "import warnings\n",
    "warnings.filterwarnings(\"ignore\")\n",
    "\n",
    "from scipy.stats import itemfreq\n",
    "import importlib\n",
    "from importlib import reload  \n",
    "from collections import defaultdict,Counter\n",
    "\n",
    "from sklearn import preprocessing\n",
    "%matplotlib inline \n",
    "pd.options.display.max_columns=200\n",
    "\n",
    "\n",
    "from sklearn.metrics import accuracy_score,f1_score\n",
    "from sklearn.utils import resample\n",
    "\n",
    "np.random.seed(42)"
   ]
  },
  {
   "cell_type": "markdown",
   "metadata": {},
   "source": [
    "###### Importing preprocessing file"
   ]
  },
  {
   "cell_type": "code",
   "execution_count": 2,
   "metadata": {},
   "outputs": [
    {
     "name": "stdout",
     "output_type": "stream",
     "text": [
      "CRASH :  (234866, 23)\n",
      "VEHICLE :  (474634, 17)\n",
      "PEOPLE :  (413775, 16)\n",
      "['LANE_CNT', 'INTERSECTION_RELATED_I', 'NOT_RIGHT_OF_WAY_I', 'DOORING_I', 'WORK_ZONE_I', 'NUM_UNITS']\n",
      "['UNIT_TYPE', 'VEHICLE_ID', 'CMRC_VEH_I', 'VEHICLE_YEAR', 'VEHICLE_DEFECT', 'VEHICLE_TYPE', 'VEHICLE_USE', 'MANEUVER', 'EXCEED_SPEED_LIMIT_I', 'CMV_ID', 'GVWR', 'TOTAL_VEHICLE_LENGTH', 'AXLE_CNT', 'VEHICLE_CONFIG']\n",
      "['VEHICLE_ID', 'SEX', 'AGE', 'DRIVERS_LICENSE_CLASS', 'SAFETY_EQUIPMENT', 'DRIVER_ACTION', 'DRIVER_VISION', 'PHYSICAL_CONDITION', 'PEDPEDAL_ACTION', 'PEDPEDAL_VISIBILITY', 'PEDPEDAL_LOCATION', 'BAC_RESULT VALUE', 'CELL_PHONE_USE']\n",
      "[]\n",
      "[]\n",
      "[]\n",
      "Vpa rd_no :  (234682, 1)\n",
      "Vpa unit 1 :  (234732, 31)\n",
      "Vpa unit 2 :  (234762, 61)\n",
      "Vpa unit 3 :  (234762, 91)\n",
      "Vpa unit 4 :  (234762, 121)\n",
      "Vpa unit 5 :  (234762, 151)\n",
      "Vpa unit 6 :  (234762, 181)\n",
      "cvp with duplicates: (234641, 203)\n",
      "cvp without duplicates: (234584, 203)\n",
      "Dataframe size after adding dummies to crashes columns:  (234584, 287)\n",
      "Dataframe size after adding dummies to vehicles columns:  (234584, 694)\n",
      "Dataframe size after adding dummies to peoples columns:  (234584, 929)\n",
      "last cell\n"
     ]
    }
   ],
   "source": [
    "import Preprocessing as pp\n",
    "\n",
    "#reload(pp)"
   ]
  },
  {
   "cell_type": "markdown",
   "metadata": {},
   "source": [
    "###### Splitting target variable from other variables"
   ]
  },
  {
   "cell_type": "code",
   "execution_count": 3,
   "metadata": {},
   "outputs": [],
   "source": [
    "df=pp.cvp_ohe\n",
    "train_data=df.copy(deep=True)\n",
    "train_data=train_data.drop(['PRIM_CONTRIBUTORY_CAUSE', 'SEC_CONTRIBUTORY_CAUSE'], axis=1)\n",
    "train_labels=df[['PRIM_CONTRIBUTORY_CAUSE']].copy()"
   ]
  },
  {
   "cell_type": "markdown",
   "metadata": {},
   "source": [
    "###### Splitting to train and test \n"
   ]
  },
  {
   "cell_type": "code",
   "execution_count": 4,
   "metadata": {},
   "outputs": [],
   "source": [
    "X_train, X_test, y_train, y_test = train_test_split(train_data, train_labels,test_size=0.20,stratify=train_labels,random_state=42)"
   ]
  },
  {
   "cell_type": "code",
   "execution_count": 5,
   "metadata": {},
   "outputs": [
    {
     "name": "stdout",
     "output_type": "stream",
     "text": [
      "X_train:  (187667, 927)\n",
      "y_train: (187667, 1)\n"
     ]
    }
   ],
   "source": [
    "print(\"X_train: \", X_train.shape)\n",
    "print(\"y_train:\", y_train.shape)"
   ]
  },
  {
   "cell_type": "code",
   "execution_count": 6,
   "metadata": {},
   "outputs": [
    {
     "data": {
      "text/plain": [
       "(187667, 928)"
      ]
     },
     "execution_count": 6,
     "metadata": {},
     "output_type": "execute_result"
    }
   ],
   "source": [
    "train_XY = pd.concat([X_train, y_train], axis=1)\n",
    "train_XY.shape"
   ]
  },
  {
   "cell_type": "code",
   "execution_count": 7,
   "metadata": {},
   "outputs": [
    {
     "data": {
      "text/plain": [
       "{'ANIMAL': 189,\n",
       " 'BICYCLE ADVANCING LEGALLY ON RED LIGHT': 49,\n",
       " 'CELL PHONE USE OTHER THAN TEXTING': 306,\n",
       " 'DISREGARDING OTHER TRAFFIC SIGNS': 447,\n",
       " 'DISREGARDING ROAD MARKINGS': 330,\n",
       " 'DISREGARDING STOP SIGN': 2354,\n",
       " 'DISREGARDING TRAFFIC SIGNALS': 3533,\n",
       " 'DISREGARDING YIELD SIGN': 81,\n",
       " 'DISTRACTION - FROM INSIDE VEHICLE': 1717,\n",
       " 'DISTRACTION - FROM OUTSIDE VEHICLE': 1000,\n",
       " 'DISTRACTION - OTHER ELECTRONIC DEVICE (NAVIGATION DEVICE, DVD PLAYER, ETC.)': 98,\n",
       " 'DRIVING ON WRONG SIDE/WRONG WAY': 968,\n",
       " 'DRIVING SKILLS/KNOWLEDGE/EXPERIENCE': 7573,\n",
       " 'EQUIPMENT - VEHICLE CONDITION': 1246,\n",
       " 'EVASIVE ACTION DUE TO ANIMAL, OBJECT, NONMOTORIST': 436,\n",
       " 'EXCEEDING AUTHORIZED SPEED LIMIT': 1597,\n",
       " 'EXCEEDING SAFE SPEED FOR CONDITIONS': 1229,\n",
       " 'FAILING TO REDUCE SPEED TO AVOID CRASH': 8683,\n",
       " 'FAILING TO YIELD RIGHT-OF-WAY': 26421,\n",
       " 'FOLLOWING TOO CLOSELY': 27383,\n",
       " 'HAD BEEN DRINKING (USE WHEN ARREST IS NOT MADE)': 257,\n",
       " 'IMPROPER BACKING': 11016,\n",
       " 'IMPROPER LANE USAGE': 9845,\n",
       " 'IMPROPER OVERTAKING/PASSING': 11566,\n",
       " 'IMPROPER TURNING/NO SIGNAL': 7787,\n",
       " 'MOTORCYCLE ADVANCING LEGALLY ON RED LIGHT': 11,\n",
       " 'NOT APPLICABLE': 12370,\n",
       " 'OPERATING VEHICLE IN ERRATIC, RECKLESS, CARELESS, NEGLIGENT OR AGGRESSIVE MANNER': 2655,\n",
       " 'PASSING STOPPED SCHOOL BUS': 30,\n",
       " 'PHYSICAL CONDITION OF DRIVER': 1231,\n",
       " 'ROAD CONSTRUCTION/MAINTENANCE': 643,\n",
       " 'ROAD ENGINEERING/SURFACE/MARKING DEFECTS': 667,\n",
       " 'TEXTING': 113,\n",
       " 'TURNING RIGHT ON RED': 150,\n",
       " 'UNABLE TO DETERMINE': 84896,\n",
       " 'UNDER THE INFLUENCE OF ALCOHOL/DRUGS (USE WHEN ARREST IS EFFECTED)': 976,\n",
       " 'VISION OBSCURED (SIGNS, TREE LIMBS, BUILDINGS, ETC.)': 1309,\n",
       " 'WEATHER': 3422}"
      ]
     },
     "execution_count": 7,
     "metadata": {},
     "output_type": "execute_result"
    }
   ],
   "source": [
    "unique, counts = np.unique(train_labels, return_counts=True)\n",
    "dict(zip(unique, counts))"
   ]
  },
  {
   "cell_type": "code",
   "execution_count": 8,
   "metadata": {},
   "outputs": [],
   "source": [
    "#segregating each class into seperate DFs\n",
    "dfMax = train_XY[train_XY.PRIM_CONTRIBUTORY_CAUSE=='UNABLE TO DETERMINE']\n",
    "df1 = train_XY[train_XY.PRIM_CONTRIBUTORY_CAUSE=='ANIMAL']\n",
    "df2 = train_XY[train_XY.PRIM_CONTRIBUTORY_CAUSE=='BICYCLE ADVANCING LEGALLY ON RED LIGHT']\n",
    "df3 = train_XY[train_XY.PRIM_CONTRIBUTORY_CAUSE=='CELL PHONE USE OTHER THAN TEXTING']\n",
    "df4 = train_XY[train_XY.PRIM_CONTRIBUTORY_CAUSE=='DISREGARDING OTHER TRAFFIC SIGNS']\n",
    "df5 = train_XY[train_XY.PRIM_CONTRIBUTORY_CAUSE=='DISREGARDING ROAD MARKINGS']\n",
    "df6 = train_XY[train_XY.PRIM_CONTRIBUTORY_CAUSE=='DISREGARDING STOP SIGN']\n",
    "df7 = train_XY[train_XY.PRIM_CONTRIBUTORY_CAUSE=='DISREGARDING TRAFFIC SIGNALS']\n",
    "df8 = train_XY[train_XY.PRIM_CONTRIBUTORY_CAUSE=='DISREGARDING YIELD SIGN']\n",
    "dfM9 = train_XY[train_XY.PRIM_CONTRIBUTORY_CAUSE=='DISTRACTION - FROM INSIDE VEHICLE']\n",
    "df10 = train_XY[train_XY.PRIM_CONTRIBUTORY_CAUSE=='DISTRACTION - FROM OUTSIDE VEHICLE']\n",
    "df11 = train_XY[train_XY.PRIM_CONTRIBUTORY_CAUSE=='DISTRACTION - OTHER ELECTRONIC DEVICE (NAVIGATION DEVICE, DVD PLAYER, ETC.)']\n",
    "df12 = train_XY[train_XY.PRIM_CONTRIBUTORY_CAUSE=='DRIVING ON WRONG SIDE/WRONG WAY']\n",
    "df13 = train_XY[train_XY.PRIM_CONTRIBUTORY_CAUSE=='DRIVING SKILLS/KNOWLEDGE/EXPERIENCE']\n",
    "df14 = train_XY[train_XY.PRIM_CONTRIBUTORY_CAUSE=='EQUIPMENT - VEHICLE CONDITION']\n",
    "df15 = train_XY[train_XY.PRIM_CONTRIBUTORY_CAUSE=='EVASIVE ACTION DUE TO ANIMAL, OBJECT, NONMOTORIST']\n",
    "df16 = train_XY[train_XY.PRIM_CONTRIBUTORY_CAUSE=='EXCEEDING AUTHORIZED SPEED LIMIT']\n",
    "df17 = train_XY[train_XY.PRIM_CONTRIBUTORY_CAUSE=='EXCEEDING SAFE SPEED FOR CONDITIONS']\n",
    "df18 = train_XY[train_XY.PRIM_CONTRIBUTORY_CAUSE=='FAILING TO REDUCE SPEED TO AVOID CRASH']\n",
    "df19 = train_XY[train_XY.PRIM_CONTRIBUTORY_CAUSE=='FAILING TO YIELD RIGHT-OF-WAY']\n",
    "df20 = train_XY[train_XY.PRIM_CONTRIBUTORY_CAUSE=='FOLLOWING TOO CLOSELY']"
   ]
  },
  {
   "cell_type": "code",
   "execution_count": 9,
   "metadata": {},
   "outputs": [],
   "source": [
    "#segregating each class into seperate DFs\n",
    "df21 = train_XY[train_XY.PRIM_CONTRIBUTORY_CAUSE=='HAD BEEN DRINKING (USE WHEN ARREST IS NOT MADE)']\n",
    "df22 = train_XY[train_XY.PRIM_CONTRIBUTORY_CAUSE=='IMPROPER BACKING']\n",
    "df23 = train_XY[train_XY.PRIM_CONTRIBUTORY_CAUSE=='IMPROPER LANE USAGE']\n",
    "df24 = train_XY[train_XY.PRIM_CONTRIBUTORY_CAUSE=='IMPROPER OVERTAKING/PASSING']\n",
    "df25 = train_XY[train_XY.PRIM_CONTRIBUTORY_CAUSE=='IMPROPER TURNING/NO SIGNAL']\n",
    "df26 = train_XY[train_XY.PRIM_CONTRIBUTORY_CAUSE=='MOTORCYCLE ADVANCING LEGALLY ON RED LIGHT']\n",
    "df27 = train_XY[train_XY.PRIM_CONTRIBUTORY_CAUSE=='NOT APPLICABLE']\n",
    "df28 = train_XY[train_XY.PRIM_CONTRIBUTORY_CAUSE=='OPERATING VEHICLE IN ERRATIC, RECKLESS, CARELESS, NEGLIGENT OR AGGRESSIVE MANNER']\n",
    "df29 = train_XY[train_XY.PRIM_CONTRIBUTORY_CAUSE=='PASSING STOPPED SCHOOL BUS']\n",
    "df30 = train_XY[train_XY.PRIM_CONTRIBUTORY_CAUSE=='PHYSICAL CONDITION OF DRIVER']\n",
    "df31 = train_XY[train_XY.PRIM_CONTRIBUTORY_CAUSE=='ROAD CONSTRUCTION/MAINTENANCE']\n",
    "df32 = train_XY[train_XY.PRIM_CONTRIBUTORY_CAUSE=='ROAD ENGINEERING/SURFACE/MARKING DEFECTS']\n",
    "df33 = train_XY[train_XY.PRIM_CONTRIBUTORY_CAUSE=='TEXTING']\n",
    "df34 = train_XY[train_XY.PRIM_CONTRIBUTORY_CAUSE=='TURNING RIGHT ON RED']\n",
    "df36 = train_XY[train_XY.PRIM_CONTRIBUTORY_CAUSE=='UNDER THE INFLUENCE OF ALCOHOL/DRUGS (USE WHEN ARREST IS EFFECTED)']\n",
    "df37 = train_XY[train_XY.PRIM_CONTRIBUTORY_CAUSE=='VISION OBSCURED (SIGNS, TREE LIMBS, BUILDINGS, ETC.)']\n",
    "df38 = train_XY[train_XY.PRIM_CONTRIBUTORY_CAUSE=='WEATHER']"
   ]
  },
  {
   "cell_type": "code",
   "execution_count": 10,
   "metadata": {},
   "outputs": [],
   "source": [
    "#downsampling majority class and upsampling minority classes\n",
    "\n",
    "ds_dfMax = resample(dfMax, replace=False, n_samples=20000, random_state=42)\n",
    "ds_df20 = resample(df20, replace=False, n_samples=15000, random_state=42)\n",
    "ds_df26 = resample(df26, replace=True, n_samples=1000, random_state=42)\n",
    "ds_df29 = resample(df29, replace=True, n_samples=2000, random_state=42)\n",
    "ds_df8 = resample(df8, replace=True, n_samples=2000, random_state=42)\n",
    "ds_df11 = resample(df11, replace=True, n_samples=4000, random_state=42)\n",
    "ds_df33 = resample(df33, replace=True, n_samples=1000, random_state=42)\n",
    "ds_df36 = resample(df36, replace=True, n_samples=2500, random_state=42)\n",
    "ds_df2 = resample(df2, replace=True, n_samples=2500, random_state=42)\n",
    "ds_df34 = resample(df34, replace=True, n_samples=2500, random_state=42)\n",
    "ds_df1 = resample(df1, replace=True, n_samples=2500, random_state=42)\n"
   ]
  },
  {
   "cell_type": "code",
   "execution_count": 11,
   "metadata": {},
   "outputs": [],
   "source": [
    "#combining resultant DFs\n",
    "frames = [ds_dfMax, ds_df1,ds_df2,df3,df4,df5,df6,df7,ds_df8,dfM9,df10,\n",
    "         ds_df11,df12,df13,df14,df15,df16,df17,df18,df19,ds_df20,\n",
    "         df21,df22,df23,df24,df25,ds_df26,df27,df28,ds_df29,df30,\n",
    "         df31,df32,ds_df33,ds_df34,ds_df36,df37,df38]\n",
    "result = pd.concat(frames)"
   ]
  },
  {
   "cell_type": "code",
   "execution_count": 12,
   "metadata": {},
   "outputs": [
    {
     "data": {
      "text/plain": [
       "(151487, 928)"
      ]
     },
     "execution_count": 12,
     "metadata": {},
     "output_type": "execute_result"
    }
   ],
   "source": [
    "result.shape"
   ]
  },
  {
   "cell_type": "code",
   "execution_count": 13,
   "metadata": {},
   "outputs": [
    {
     "data": {
      "image/png": "[encoded data removed]",
      "text/plain": [
       "<Figure size 720x288 with 1 Axes>"
      ]
     },
     "metadata": {},
     "output_type": "display_data"
    }
   ],
   "source": [
    "import matplotlib.pyplot as plt\n",
    "plt.figure(figsize=(10,4))\n",
    "result.PRIM_CONTRIBUTORY_CAUSE.value_counts().plot(kind='bar');"
   ]
  },
  {
   "cell_type": "code",
   "execution_count": 14,
   "metadata": {},
   "outputs": [],
   "source": [
    "#train data after downsampling\n",
    "ds_ytrain = result['PRIM_CONTRIBUTORY_CAUSE']\n",
    "ds_xtrain = result.loc[:, result.columns != 'PRIM_CONTRIBUTORY_CAUSE']"
   ]
  },
  {
   "cell_type": "markdown",
   "metadata": {},
   "source": [
    "###### Scaling of data"
   ]
  },
  {
   "cell_type": "code",
   "execution_count": 15,
   "metadata": {},
   "outputs": [],
   "source": [
    "scaler=StandardScaler()\n",
    "X_train_scaled=scaler.fit_transform(ds_xtrain)\n",
    "X_test_scaled=scaler.transform(X_test)"
   ]
  },
  {
   "cell_type": "code",
   "execution_count": 16,
   "metadata": {},
   "outputs": [],
   "source": [
    "selector = VarianceThreshold()\n",
    "X1 = selector.fit_transform(X_train_scaled)\n",
    "X2 = selector.transform(X_test_scaled)"
   ]
  },
  {
   "cell_type": "markdown",
   "metadata": {},
   "source": [
    "### Algorithms Implementation"
   ]
  },
  {
   "cell_type": "markdown",
   "metadata": {},
   "source": [
    "##### MultiLayerPerceptron"
   ]
  },
  {
   "cell_type": "code",
   "execution_count": 19,
   "metadata": {},
   "outputs": [],
   "source": [
    "clf = MLPClassifier(solver='lbfgs', alpha=1e-5, hidden_layer_sizes=(5, 2), random_state=1)\n",
    "\n",
    "clf.fit(X1, ds_ytrain)\n",
    "ypred_mlp_ds = clf.predict(X2)"
   ]
  },
  {
   "cell_type": "code",
   "execution_count": 20,
   "metadata": {},
   "outputs": [
    {
     "name": "stdout",
     "output_type": "stream",
     "text": [
      "********MultiLayerPerceptron, Sampled, Standard Scaled, Variance threshold ********\n",
      "F1-score_micro =  0.5533815035061918\n",
      "F1-score =  0.47512071887392104\n",
      "Precision =  0.4226206847573111\n",
      "Recall Score =  0.5533815035061918\n"
     ]
    }
   ],
   "source": [
    "print('********MultiLayerPerceptron, Sampled, Standard Scaled, Variance threshold','********')\n",
    "\n",
    "f1_score_micro_MLP_ds = metrics.f1_score(y_test, ypred_mlp_ds, average='micro')\n",
    "f1_score_wt_MLP_ds = metrics.f1_score(y_test,ypred_mlp_ds,average='weighted')\n",
    "precision_score_wt_MLP_ds = metrics.precision_score(y_test, ypred_mlp_ds, average='weighted')\n",
    "recall_score_wt_MLP_ds = metrics.recall_score(y_test, ypred_mlp_ds, average='weighted')\n",
    "\n",
    "print('F1-score_micro = ',f1_score_micro_MLP_ds)\n",
    "print('F1-score = ',f1_score_wt_MLP_ds)\n",
    "print('Precision = ',precision_score_wt_MLP_ds)\n",
    "print('Recall Score = ',recall_score_wt_MLP_ds)\n"
   ]
  },
  {
   "cell_type": "markdown",
   "metadata": {},
   "source": [
    "###### Random forest"
   ]
  },
  {
   "cell_type": "code",
   "execution_count": 45,
   "metadata": {},
   "outputs": [],
   "source": [
    "clf=RandomForestClassifier(n_estimators=100, random_state=42)\n",
    "\n",
    "clf.fit(X1, ds_ytrain)\n",
    "ypred_RF_ds = clf.predict(X2)"
   ]
  },
  {
   "cell_type": "code",
   "execution_count": 46,
   "metadata": {},
   "outputs": [
    {
     "name": "stdout",
     "output_type": "stream",
     "text": [
      "********RF, Sampled, Standard Scaled, Variance threshold ********\n",
      "F1-score_micro =  0.6149796449048319\n",
      "F1-score =  0.5928489521192485\n",
      "Precision =  0.5958713049435029\n",
      "Recall Score =  0.6149796449048319\n"
     ]
    }
   ],
   "source": [
    "print('********RF, Sampled, Standard Scaled, Variance threshold','********')\n",
    "\n",
    "f1_score_micro_RF_ds = metrics.f1_score(y_test, ypred_RF_ds, average='micro')\n",
    "f1_score_wt_RF_ds = metrics.f1_score(y_test,ypred_RF_ds,average='weighted')\n",
    "precision_score_wt_RF_ds = metrics.precision_score(y_test, ypred_RF_ds, average='weighted')\n",
    "recall_score_wt_RF_ds = metrics.recall_score(y_test, ypred_RF_ds, average='weighted')\n",
    "\n",
    "print('F1-score_micro = ',f1_score_micro_RF_ds)\n",
    "print('F1-score = ',f1_score_wt_RF_ds)\n",
    "print('Precision = ',precision_score_wt_RF_ds)\n",
    "print('Recall Score = ',recall_score_wt_RF_ds)"
   ]
  },
  {
   "cell_type": "markdown",
   "metadata": {},
   "source": [
    "###### Naive Bayes"
   ]
  },
  {
   "cell_type": "code",
   "execution_count": 21,
   "metadata": {},
   "outputs": [],
   "source": [
    "clf=GaussianNB()\n",
    "\n",
    "clf.fit(X1, ds_ytrain)\n",
    "ypred_NB_ds = clf.predict(X2)"
   ]
  },
  {
   "cell_type": "code",
   "execution_count": 22,
   "metadata": {},
   "outputs": [
    {
     "name": "stdout",
     "output_type": "stream",
     "text": [
      "********NB, Sampled, Standard Scaled, Variance threshold ********\n",
      "F1-score_micro =  0.005435130123409425\n",
      "F1-score =  0.0038041323691026625\n",
      "Precision =  0.06517185031451408\n",
      "Recall Score =  0.005435130123409425\n"
     ]
    }
   ],
   "source": [
    "print('********NB, Sampled, Standard Scaled, Variance threshold','********')\n",
    "\n",
    "f1_score_micro_NB_ds = metrics.f1_score(y_test, ypred_NB_ds, average='micro')\n",
    "f1_score_wt_NB_ds = metrics.f1_score(y_test,ypred_NB_ds,average='weighted')\n",
    "precision_score_wt_NB_ds = metrics.precision_score(y_test, ypred_NB_ds, average='weighted')\n",
    "recall_score_wt_NB_ds = metrics.recall_score(y_test, ypred_NB_ds, average='weighted')\n",
    "\n",
    "print('F1-score_micro = ',f1_score_micro_NB_ds)\n",
    "print('F1-score = ',f1_score_wt_NB_ds)\n",
    "print('Precision = ',precision_score_wt_NB_ds)\n",
    "print('Recall Score = ',recall_score_wt_NB_ds)"
   ]
  },
  {
   "cell_type": "markdown",
   "metadata": {},
   "source": [
    "###### Logistic Regression"
   ]
  },
  {
   "cell_type": "code",
   "execution_count": 23,
   "metadata": {},
   "outputs": [],
   "source": [
    "clf=LogisticRegression(random_state=0, solver='lbfgs', multi_class='multinomial')\n",
    "\n",
    "clf.fit(X1, ds_ytrain)\n",
    "ypred_LR_ds = clf.predict(X2)"
   ]
  },
  {
   "cell_type": "code",
   "execution_count": 24,
   "metadata": {},
   "outputs": [
    {
     "name": "stdout",
     "output_type": "stream",
     "text": [
      "********Logistic Regression, Sampled, Standard Scaled, Variance threshold ********\n",
      "F1-score_micro =  0.5835837756037258\n",
      "F1-score =  0.5841680030324714\n",
      "Precision =  0.5992675803718607\n",
      "Recall Score =  0.5835837756037258\n"
     ]
    }
   ],
   "source": [
    "print('********Logistic Regression, Sampled, Standard Scaled, Variance threshold','********')\n",
    "\n",
    "f1_score_micro_LR_ds = metrics.f1_score(y_test, ypred_LR_ds, average='micro')\n",
    "f1_score_wt_LR_ds = metrics.f1_score(y_test,ypred_LR_ds,average='weighted')\n",
    "precision_score_wt_LR_ds = metrics.precision_score(y_test, ypred_LR_ds, average='weighted')\n",
    "recall_score_wt_LR_ds = metrics.recall_score(y_test, ypred_LR_ds, average='weighted')\n",
    "\n",
    "print('F1-score_micro = ',f1_score_micro_LR_ds)\n",
    "print('F1-score = ',f1_score_wt_LR_ds)\n",
    "print('Precision = ',precision_score_wt_LR_ds)\n",
    "print('Recall Score = ',recall_score_wt_LR_ds)"
   ]
  },
  {
   "cell_type": "markdown",
   "metadata": {},
   "source": [
    "###### Adaboost Classifier"
   ]
  },
  {
   "cell_type": "code",
   "execution_count": 25,
   "metadata": {},
   "outputs": [],
   "source": [
    "clf = AdaBoostClassifier(n_estimators=500)\n",
    "\n",
    "clf.fit(X1, ds_ytrain)\n",
    "ypred_AB_ds = clf.predict(X2)"
   ]
  },
  {
   "cell_type": "code",
   "execution_count": 26,
   "metadata": {},
   "outputs": [
    {
     "name": "stdout",
     "output_type": "stream",
     "text": [
      "********Adaboost Classifier, Sampled, Standard Scaled, Variance threshold ********\n",
      "F1-score_micro =  0.6003367649252936\n",
      "F1-score =  0.5541082019828412\n",
      "Precision =  0.5340010455611829\n",
      "Recall Score =  0.6003367649252936\n"
     ]
    }
   ],
   "source": [
    "print('********Adaboost Classifier, Sampled, Standard Scaled, Variance threshold','********')\n",
    "\n",
    "f1_score_micro_AB_ds = metrics.f1_score(y_test, ypred_AB_ds, average='micro')\n",
    "f1_score_wt_AB_ds = metrics.f1_score(y_test,ypred_AB_ds,average='weighted')\n",
    "precision_score_wt_AB_ds = metrics.precision_score(y_test, ypred_AB_ds, average='weighted')\n",
    "recall_score_wt_AB_ds = metrics.recall_score(y_test, ypred_AB_ds, average='weighted')\n",
    "\n",
    "print('F1-score_micro = ',f1_score_micro_AB_ds)\n",
    "print('F1-score = ',f1_score_wt_AB_ds)\n",
    "print('Precision = ',precision_score_wt_AB_ds)\n",
    "print('Recall Score = ',recall_score_wt_AB_ds)"
   ]
  },
  {
   "cell_type": "markdown",
   "metadata": {},
   "source": [
    "###### Bagging with Extratrees Classifier"
   ]
  },
  {
   "cell_type": "code",
   "execution_count": 27,
   "metadata": {},
   "outputs": [],
   "source": [
    "clf = BaggingClassifier(ExtraTreesClassifier()) \n",
    "\n",
    "clf.fit(X1, ds_ytrain)\n",
    "ypred_BET_ds = clf.predict(X2)"
   ]
  },
  {
   "cell_type": "code",
   "execution_count": 28,
   "metadata": {},
   "outputs": [
    {
     "name": "stdout",
     "output_type": "stream",
     "text": [
      "********Bagging with ExtraTrees Classifier, Sampled, Standard Scaled, Variance threshold ********\n",
      "F1-score_micro =  0.6151501587910565\n",
      "F1-score =  0.5942139473759371\n",
      "Precision =  0.5934593966624218\n",
      "Recall Score =  0.6151501587910565\n"
     ]
    }
   ],
   "source": [
    "print('********Bagging with ExtraTrees Classifier, Sampled, Standard Scaled, Variance threshold','********')\n",
    "\n",
    "f1_score_micro_BET_ds = metrics.f1_score(y_test, ypred_BET_ds, average='micro')\n",
    "f1_score_wt_BET_ds = metrics.f1_score(y_test,ypred_BET_ds,average='weighted')\n",
    "precision_score_wt_BET_ds = metrics.precision_score(y_test, ypred_BET_ds, average='weighted')\n",
    "recall_score_wt_BET_ds = metrics.recall_score(y_test, ypred_BET_ds, average='weighted')\n",
    "\n",
    "print('F1-score_micro = ',f1_score_micro_BET_ds)\n",
    "print('F1-score = ',f1_score_wt_BET_ds)\n",
    "print('Precision = ',precision_score_wt_BET_ds)\n",
    "print('Recall Score = ',recall_score_wt_BET_ds)"
   ]
  },
  {
   "cell_type": "markdown",
   "metadata": {},
   "source": [
    "###### Bagging with RandomForest Classifier"
   ]
  },
  {
   "cell_type": "code",
   "execution_count": 29,
   "metadata": {},
   "outputs": [],
   "source": [
    "clf = BaggingClassifier(RandomForestClassifier()) \n",
    "\n",
    "clf.fit(X1, ds_ytrain)\n",
    "ypred_BRF_ds = clf.predict(X2)"
   ]
  },
  {
   "cell_type": "code",
   "execution_count": 30,
   "metadata": {},
   "outputs": [
    {
     "name": "stdout",
     "output_type": "stream",
     "text": [
      "********Bagging with RF Classifier, Sampled, Standard Scaled, Variance threshold ********\n",
      "F1-score_micro =  0.6166421552955219\n",
      "F1-score =  0.5922019479283691\n",
      "Precision =  0.595417725611305\n",
      "Recall Score =  0.6166421552955219\n"
     ]
    }
   ],
   "source": [
    "print('********Bagging with RF Classifier, Sampled, Standard Scaled, Variance threshold','********')\n",
    "\n",
    "f1_score_micro_BRF_ds = metrics.f1_score(y_test, ypred_BRF_ds, average='micro')\n",
    "f1_score_wt_BRF_ds = metrics.f1_score(y_test,ypred_BRF_ds,average='weighted')\n",
    "precision_score_wt_BRF_ds = metrics.precision_score(y_test, ypred_BRF_ds, average='weighted')\n",
    "recall_score_wt_BRF_ds = metrics.recall_score(y_test, ypred_BRF_ds, average='weighted')\n",
    "\n",
    "print('F1-score_micro = ',f1_score_micro_BRF_ds)\n",
    "print('F1-score = ',f1_score_wt_BRF_ds)\n",
    "print('Precision = ',precision_score_wt_BRF_ds)\n",
    "print('Recall Score = ',recall_score_wt_BRF_ds)"
   ]
  },
  {
   "cell_type": "markdown",
   "metadata": {},
   "source": [
    "###### Bagging with LDA"
   ]
  },
  {
   "cell_type": "code",
   "execution_count": 34,
   "metadata": {},
   "outputs": [],
   "source": [
    "clf = BaggingClassifier(LinearDiscriminantAnalysis()) \n",
    "\n",
    "clf.fit(X1, ds_ytrain)\n",
    "ypred_BLDA_ds = clf.predict(X2)"
   ]
  },
  {
   "cell_type": "code",
   "execution_count": 35,
   "metadata": {},
   "outputs": [
    {
     "name": "stdout",
     "output_type": "stream",
     "text": [
      "********Bagging with LDA Classifier, Sampled, Standard Scaled, Variance threshold ********\n",
      "F1-score_micro =  0.5691753522177462\n",
      "F1-score =  0.5728228993064186\n",
      "Precision =  0.5998331715382869\n",
      "Recall Score =  0.5691753522177462\n"
     ]
    }
   ],
   "source": [
    "print('********Bagging with LDA Classifier, Sampled, Standard Scaled, Variance threshold','********')\n",
    "\n",
    "f1_score_micro_BLDA_ds = metrics.f1_score(y_test, ypred_BLDA_ds, average='micro')\n",
    "f1_score_wt_BLDA_ds = metrics.f1_score(y_test,ypred_BLDA_ds,average='weighted')\n",
    "precision_score_wt_BLDA_ds = metrics.precision_score(y_test, ypred_BLDA_ds, average='weighted')\n",
    "recall_score_wt_BLDA_ds = metrics.recall_score(y_test, ypred_BLDA_ds, average='weighted')\n",
    "\n",
    "print('F1-score_micro = ',f1_score_micro_BLDA_ds)\n",
    "print('F1-score = ',f1_score_wt_BLDA_ds)\n",
    "print('Precision = ',precision_score_wt_BLDA_ds)\n",
    "print('Recall Score = ',recall_score_wt_BLDA_ds)"
   ]
  },
  {
   "cell_type": "markdown",
   "metadata": {},
   "source": [
    "###### Bagging with DT"
   ]
  },
  {
   "cell_type": "code",
   "execution_count": 36,
   "metadata": {},
   "outputs": [],
   "source": [
    "clf = BaggingClassifier(DecisionTreeClassifier()) \n",
    "\n",
    "clf.fit(X1, ds_ytrain)\n",
    "ypred_BDT_ds = clf.predict(X2)"
   ]
  },
  {
   "cell_type": "code",
   "execution_count": 37,
   "metadata": {},
   "outputs": [
    {
     "name": "stdout",
     "output_type": "stream",
     "text": [
      "********Bagging with DT Classifier, Sampled, Standard Scaled, Variance threshold ********\n",
      "F1-score_micro =  0.567406270648166\n",
      "F1-score =  0.5647046316215365\n",
      "Precision =  0.5841567717575016\n",
      "Recall Score =  0.567406270648166\n"
     ]
    }
   ],
   "source": [
    "print('********Bagging with DT Classifier, Sampled, Standard Scaled, Variance threshold','********')\n",
    "\n",
    "f1_score_micro_BDT_ds = metrics.f1_score(y_test, ypred_BDT_ds, average='micro')\n",
    "f1_score_wt_BDT_ds = metrics.f1_score(y_test,ypred_BDT_ds,average='weighted')\n",
    "precision_score_wt_BDT_ds = metrics.precision_score(y_test, ypred_BDT_ds, average='weighted')\n",
    "recall_score_wt_BDT_ds = metrics.recall_score(y_test, ypred_BDT_ds, average='weighted')\n",
    "\n",
    "print('F1-score_micro = ',f1_score_micro_BDT_ds)\n",
    "print('F1-score = ',f1_score_wt_BDT_ds)\n",
    "print('Precision = ',precision_score_wt_BDT_ds)\n",
    "print('Recall Score = ',recall_score_wt_BDT_ds)"
   ]
  },
  {
   "cell_type": "markdown",
   "metadata": {},
   "source": [
    "###### Decision Tree Classifier"
   ]
  },
  {
   "cell_type": "code",
   "execution_count": 38,
   "metadata": {},
   "outputs": [],
   "source": [
    "clf=tree.DecisionTreeClassifier()\n",
    "\n",
    "clf.fit(X1, ds_ytrain)\n",
    "ypred_DT_ds = clf.predict(X2)"
   ]
  },
  {
   "cell_type": "code",
   "execution_count": 39,
   "metadata": {},
   "outputs": [
    {
     "name": "stdout",
     "output_type": "stream",
     "text": [
      "********DT Classifier, Sampled, Standard Scaled, Variance threshold ********\n",
      "F1-score_micro =  0.44546752776179205\n",
      "F1-score =  0.46024015558115017\n",
      "Precision =  0.5049560583041984\n",
      "Recall Score =  0.4454675277617921\n"
     ]
    }
   ],
   "source": [
    "print('********DT Classifier, Sampled, Standard Scaled, Variance threshold','********')\n",
    "\n",
    "f1_score_micro_DT_ds = metrics.f1_score(y_test, ypred_DT_ds, average='micro')\n",
    "f1_score_wt_DT_ds = metrics.f1_score(y_test,ypred_DT_ds,average='weighted')\n",
    "precision_score_wt_DT_ds = metrics.precision_score(y_test, ypred_DT_ds, average='weighted')\n",
    "recall_score_wt_DT_ds = metrics.recall_score(y_test, ypred_DT_ds, average='weighted')\n",
    "\n",
    "print('F1-score_micro = ',f1_score_micro_DT_ds)\n",
    "print('F1-score = ',f1_score_wt_DT_ds)\n",
    "print('Precision = ',precision_score_wt_DT_ds)\n",
    "print('Recall Score = ',recall_score_wt_DT_ds)"
   ]
  },
  {
   "cell_type": "markdown",
   "metadata": {},
   "source": [
    "###### ExtraTrees Classifier"
   ]
  },
  {
   "cell_type": "code",
   "execution_count": 40,
   "metadata": {},
   "outputs": [],
   "source": [
    "clf=ExtraTreesClassifier()\n",
    "\n",
    "clf.fit(X1, ds_ytrain)\n",
    "ypred_ET_ds = clf.predict(X2)"
   ]
  },
  {
   "cell_type": "code",
   "execution_count": 41,
   "metadata": {},
   "outputs": [
    {
     "name": "stdout",
     "output_type": "stream",
     "text": [
      "********ET Classifier, Sampled, Standard Scaled, Variance threshold ********\n",
      "F1-score_micro =  0.5400814203806723\n",
      "F1-score =  0.533681422729938\n",
      "Precision =  0.557367843453029\n",
      "Recall Score =  0.5400814203806723\n"
     ]
    }
   ],
   "source": [
    "print('********ET Classifier, Sampled, Standard Scaled, Variance threshold','********')\n",
    "\n",
    "f1_score_micro_ET_ds = metrics.f1_score(y_test, ypred_ET_ds, average='micro')\n",
    "f1_score_wt_ET_ds = metrics.f1_score(y_test,ypred_ET_ds,average='weighted')\n",
    "precision_score_wt_ET_ds = metrics.precision_score(y_test, ypred_ET_ds, average='weighted')\n",
    "recall_score_wt_ET_ds = metrics.recall_score(y_test, ypred_ET_ds, average='weighted')\n",
    "\n",
    "print('F1-score_micro = ',f1_score_micro_ET_ds)\n",
    "print('F1-score = ',f1_score_wt_ET_ds)\n",
    "print('Precision = ',precision_score_wt_ET_ds)\n",
    "print('Recall Score = ',recall_score_wt_ET_ds)"
   ]
  },
  {
   "cell_type": "markdown",
   "metadata": {},
   "source": [
    "###### LDA"
   ]
  },
  {
   "cell_type": "code",
   "execution_count": 42,
   "metadata": {},
   "outputs": [],
   "source": [
    "clf=LDA()\n",
    "\n",
    "clf.fit(X1, ds_ytrain)\n",
    "ypred_LDA_ds = clf.predict(X2)"
   ]
  },
  {
   "cell_type": "code",
   "execution_count": 43,
   "metadata": {},
   "outputs": [
    {
     "name": "stdout",
     "output_type": "stream",
     "text": [
      "********LDA Classifier, Sampled, Standard Scaled, Variance threshold ********\n",
      "F1-score_micro =  0.5504827674403734\n",
      "F1-score =  0.5637284005284732\n",
      "Precision =  0.6088633010689604\n",
      "Recall Score =  0.5504827674403734\n"
     ]
    }
   ],
   "source": [
    "print('********LDA Classifier, Sampled, Standard Scaled, Variance threshold','********')\n",
    "\n",
    "f1_score_micro_LDA_ds = metrics.f1_score(y_test, ypred_LDA_ds, average='micro')\n",
    "f1_score_wt_LDA_ds = metrics.f1_score(y_test,ypred_LDA_ds,average='weighted')\n",
    "precision_score_wt_LDA_ds = metrics.precision_score(y_test, ypred_LDA_ds, average='weighted')\n",
    "recall_score_wt_LDA_ds = metrics.recall_score(y_test, ypred_LDA_ds, average='weighted')\n",
    "\n",
    "print('F1-score_micro = ',f1_score_micro_LDA_ds)\n",
    "print('F1-score = ',f1_score_wt_LDA_ds)\n",
    "print('Precision = ',precision_score_wt_LDA_ds)\n",
    "print('Recall Score = ',recall_score_wt_LDA_ds)"
   ]
  },
  {
   "cell_type": "markdown",
   "metadata": {},
   "source": [
    "###### Variables import"
   ]
  },
  {
   "cell_type": "code",
   "execution_count": 47,
   "metadata": {},
   "outputs": [],
   "source": [
    "import pickle\n",
    "sampled_variables = {\n",
    "    'f1_score_wt_MLP_ds': f1_score_wt_MLP_ds,\n",
    "    'f1_score_wt_RF_ds': f1_score_wt_RF_ds,\n",
    "    'f1_score_wt_NB_ds': f1_score_wt_NB_ds,\n",
    "    'f1_score_wt_LR_ds': f1_score_wt_LR_ds,\n",
    "    'f1_score_wt_AB_ds': f1_score_wt_AB_ds,\n",
    "    'f1_score_wt_BET_ds': f1_score_wt_BET_ds,\n",
    "    'f1_score_wt_BRF_ds': f1_score_wt_BRF_ds,\n",
    "    'f1_score_wt_BLDA_ds': f1_score_wt_BLDA_ds,\n",
    "    'f1_score_wt_BDT_ds': f1_score_wt_BDT_ds,\n",
    "    'f1_score_wt_DT_ds': f1_score_wt_DT_ds,\n",
    "    'f1_score_wt_ET_ds': f1_score_wt_ET_ds,\n",
    "    'f1_score_wt_LDA_ds': f1_score_wt_LDA_ds   \n",
    "}\n",
    "pickle.dump(sampled_variables,open(\"sampled_variables.p\",\"wb\"))"
   ]
  },
  {
   "cell_type": "code",
   "execution_count": null,
   "metadata": {},
   "outputs": [],
   "source": []
  }
 ],
 "metadata": {
  "kernelspec": {
   "display_name": "Python 3",
   "language": "python",
   "name": "python3"
  },
  "language_info": {
   "codemirror_mode": {
    "name": "ipython",
    "version": 3
   },
   "file_extension": ".py",
   "mimetype": "text/x-python",
   "name": "python",
   "nbconvert_exporter": "python",
   "pygments_lexer": "ipython3",
   "version": "3.6.5"
  }
 },
 "nbformat": 4,
 "nbformat_minor": 2
}
