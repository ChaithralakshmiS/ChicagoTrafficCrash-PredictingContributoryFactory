{
 "cells": [
  {
   "cell_type": "markdown",
   "metadata": {},
   "source": [
    "###### Importing libraries"
   ]
  },
  {
   "cell_type": "code",
   "execution_count": 1,
   "metadata": {},
   "outputs": [],
   "source": [
    "import pandas as pd\n",
    "import numpy as np\n",
    "import time\n",
    "\n",
    "# matplotlib\n",
    "import matplotlib.pyplot as plt\n",
    "import matplotlib.image as mpimg\n",
    "from matplotlib.colors import ListedColormap\n",
    "\n",
    "#sklearn\n",
    "from sklearn import datasets, svm, metrics,tree\n",
    "from sklearn.datasets import make_classification\n",
    "from sklearn.model_selection import train_test_split\n",
    "#preprocessing\n",
    "from sklearn.preprocessing import StandardScaler,normalize\n",
    "# Dimenionality Reduction\n",
    "from sklearn.decomposition import PCA\n",
    "from sklearn.discriminant_analysis import LinearDiscriminantAnalysis as LDA\n",
    "from sklearn import random_projection\n",
    "#Feature selection\n",
    "from sklearn.feature_selection import VarianceThreshold\n",
    "#Under sampling\n",
    "from imblearn.under_sampling import RandomUnderSampler\n",
    "#Over sampling\n",
    "from imblearn.over_sampling import SMOTE, BorderlineSMOTE, SVMSMOTE, SMOTENC,RandomOverSampler\n",
    "#Combined sampling\n",
    "from imblearn.combine import SMOTETomek\n",
    "#Algorithms\n",
    "from sklearn.neighbors import KNeighborsClassifier\n",
    "from sklearn.ensemble import VotingClassifier,AdaBoostClassifier,RandomForestClassifier,ExtraTreesClassifier,GradientBoostingClassifier,BaggingClassifier\n",
    "from sklearn.tree import DecisionTreeClassifier\n",
    "from sklearn.naive_bayes import BernoulliNB,GaussianNB\n",
    "from sklearn.neural_network import MLPClassifier\n",
    "from sklearn.linear_model import LogisticRegression,RidgeClassifier,Perceptron,PassiveAggressiveClassifier,RidgeClassifierCV\n",
    "from sklearn.svm import SVC\n",
    "from sklearn.decomposition import TruncatedSVD\n",
    "from sklearn.utils import resample\n",
    "from sklearn.pipeline import *\n",
    "from sklearn import metrics\n",
    "from sklearn.metrics import f1_score,confusion_matrix,classification_report,make_scorer,average_precision_score,precision_recall_curve\n",
    "\n",
    "#import pandas_ml as pdml\n",
    "\n",
    "import warnings\n",
    "warnings.filterwarnings(\"ignore\")\n",
    "\n",
    "from scipy.stats import itemfreq\n",
    "import importlib\n",
    "from importlib import reload  \n",
    "from collections import defaultdict,Counter\n",
    "\n",
    "from sklearn import preprocessing\n",
    "%matplotlib inline \n",
    "pd.options.display.max_columns=200\n",
    "\n",
    "\n",
    "from sklearn.metrics import accuracy_score,f1_score\n",
    "\n",
    "\n",
    "np.random.seed(42)"
   ]
  },
  {
   "cell_type": "markdown",
   "metadata": {},
   "source": [
    "###### Importing preprocessing file"
   ]
  },
  {
   "cell_type": "code",
   "execution_count": 2,
   "metadata": {},
   "outputs": [
    {
     "name": "stdout",
     "output_type": "stream",
     "text": [
      "CRASH :  (234866, 23)\n",
      "VEHICLE :  (474634, 17)\n",
      "PEOPLE :  (413775, 16)\n",
      "['LANE_CNT', 'INTERSECTION_RELATED_I', 'NOT_RIGHT_OF_WAY_I', 'DOORING_I', 'WORK_ZONE_I', 'NUM_UNITS']\n",
      "['UNIT_TYPE', 'VEHICLE_ID', 'CMRC_VEH_I', 'VEHICLE_YEAR', 'VEHICLE_DEFECT', 'VEHICLE_TYPE', 'VEHICLE_USE', 'MANEUVER', 'EXCEED_SPEED_LIMIT_I', 'CMV_ID', 'GVWR', 'TOTAL_VEHICLE_LENGTH', 'AXLE_CNT', 'VEHICLE_CONFIG']\n",
      "['VEHICLE_ID', 'SEX', 'AGE', 'DRIVERS_LICENSE_CLASS', 'SAFETY_EQUIPMENT', 'DRIVER_ACTION', 'DRIVER_VISION', 'PHYSICAL_CONDITION', 'PEDPEDAL_ACTION', 'PEDPEDAL_VISIBILITY', 'PEDPEDAL_LOCATION', 'BAC_RESULT VALUE', 'CELL_PHONE_USE']\n",
      "[]\n",
      "[]\n",
      "[]\n",
      "Vpa rd_no :  (234682, 1)\n",
      "Vpa unit 1 :  (234732, 31)\n",
      "Vpa unit 2 :  (234762, 61)\n",
      "Vpa unit 3 :  (234762, 91)\n",
      "Vpa unit 4 :  (234762, 121)\n",
      "Vpa unit 5 :  (234762, 151)\n",
      "Vpa unit 6 :  (234762, 181)\n",
      "cvp with duplicates: (234641, 203)\n",
      "cvp without duplicates: (234584, 203)\n",
      "Dataframe size after adding dummies to crashes columns:  (234584, 287)\n",
      "Dataframe size after adding dummies to vehicles columns:  (234584, 694)\n",
      "Dataframe size after adding dummies to peoples columns:  (234584, 929)\n"
     ]
    }
   ],
   "source": [
    "import Preprocessing as pp\n",
    "\n",
    "#reload(pp)"
   ]
  },
  {
   "cell_type": "markdown",
   "metadata": {},
   "source": [
    "###### Splitting target variable from other variables"
   ]
  },
  {
   "cell_type": "code",
   "execution_count": 3,
   "metadata": {},
   "outputs": [],
   "source": [
    "df=pp.cvp_ohe\n",
    "train_data=df.copy(deep=True)\n",
    "train_data=train_data.drop(['PRIM_CONTRIBUTORY_CAUSE', 'SEC_CONTRIBUTORY_CAUSE'], axis=1)\n",
    "train_labels=df[['PRIM_CONTRIBUTORY_CAUSE']].copy()"
   ]
  },
  {
   "cell_type": "markdown",
   "metadata": {},
   "source": [
    "###### Splitting to train and test "
   ]
  },
  {
   "cell_type": "code",
   "execution_count": 4,
   "metadata": {},
   "outputs": [],
   "source": [
    "X_train, X_test, y_train, y_test = train_test_split(train_data, train_labels,test_size=0.20,stratify=train_labels,random_state=42)\n"
   ]
  },
  {
   "cell_type": "markdown",
   "metadata": {},
   "source": [
    "###### Scaling of data"
   ]
  },
  {
   "cell_type": "code",
   "execution_count": 5,
   "metadata": {},
   "outputs": [],
   "source": [
    "scaler=StandardScaler()\n",
    "X_train_scaled=scaler.fit_transform(X_train)\n",
    "X_test_scaled=scaler.transform(X_test)"
   ]
  },
  {
   "cell_type": "markdown",
   "metadata": {},
   "source": [
    "### Algorithms Implementation"
   ]
  },
  {
   "cell_type": "markdown",
   "metadata": {},
   "source": [
    "##### Decision Tree Classifier"
   ]
  },
  {
   "cell_type": "markdown",
   "metadata": {},
   "source": [
    "###### DecisionTreeClassifier - Approach 1"
   ]
  },
  {
   "cell_type": "code",
   "execution_count": 6,
   "metadata": {},
   "outputs": [],
   "source": [
    "feature_selection=PCA(n_components=500)\n",
    "clf=tree.DecisionTreeClassifier()\n",
    "\n",
    "pipe_clf = make_pipeline(feature_selection,clf)\n",
    "pipe_clf.fit(X_train_scaled, y_train)\n",
    "y_pred_DT1 = pipe_clf.predict(X_test_scaled)"
   ]
  },
  {
   "cell_type": "markdown",
   "metadata": {},
   "source": [
    "###### Performance Evaluation for DecisionTreeClassifier - Approach 1"
   ]
  },
  {
   "cell_type": "code",
   "execution_count": 7,
   "metadata": {},
   "outputs": [
    {
     "name": "stdout",
     "output_type": "stream",
     "text": [
      "********Decision Tree Classifier, Standard Scaled, PCA=500 ********\n",
      "F1-score_micro =  0.38131167806978283\n",
      "F1-score =  0.3838214836851748\n",
      "Precision =  0.38661664527571366\n",
      "Recall Score =  0.38131167806978283\n",
      "Stored 'f1_score_micro_DT1' (float64)\n",
      "Stored 'f1_score_wt_DT1' (float64)\n",
      "Stored 'precision_score_wt_DT1' (float64)\n",
      "Stored 'recall_score_wt_DT1' (float64)\n"
     ]
    }
   ],
   "source": [
    "print('********Decision Tree Classifier, Standard Scaled, PCA=500','********')\n",
    "f1_score_micro_DT1 = metrics.f1_score(y_test, y_pred_DT1, average='micro')\n",
    "f1_score_wt_DT1 = metrics.f1_score(y_test,y_pred_DT1,average='weighted')\n",
    "precision_score_wt_DT1=metrics.precision_score(y_test, y_pred_DT1, average='weighted')\n",
    "recall_score_wt_DT1=metrics.recall_score(y_test, y_pred_DT1, average='weighted')\n",
    "print('F1-score_micro = ',f1_score_micro_DT1)\n",
    "print('F1-score = ',f1_score_wt_DT1)\n",
    "print('Precision = ',precision_score_wt_DT1)\n",
    "print('Recall Score = ',recall_score_wt_DT1)\n"
   ]
  },
  {
   "cell_type": "markdown",
   "metadata": {},
   "source": [
    "###### DecisionTreeClassifier - Approach 2"
   ]
  },
  {
   "cell_type": "code",
   "execution_count": 8,
   "metadata": {},
   "outputs": [],
   "source": [
    "feature_selection=VarianceThreshold()\n",
    "clf=tree.DecisionTreeClassifier()\n",
    "\n",
    "pipe_clf = make_pipeline(feature_selection,clf)\n",
    "pipe_clf.fit(X_train_scaled, y_train)\n",
    "y_pred_DT2 = pipe_clf.predict(X_test_scaled)"
   ]
  },
  {
   "cell_type": "markdown",
   "metadata": {},
   "source": [
    "###### Performance Evaluation for DecisionTreeClassifier - Approach 2"
   ]
  },
  {
   "cell_type": "code",
   "execution_count": 9,
   "metadata": {},
   "outputs": [
    {
     "name": "stdout",
     "output_type": "stream",
     "text": [
      "********Decision Tree Classifier, Standard Scaled, VarianceThreshold ********\n",
      "F1-score_micro =  0.49800711895474986\n",
      "F1-score =  0.4975877204975956\n",
      "Precision =  0.49741830128255443\n",
      "Recall Score =  0.49800711895474986\n",
      "Stored 'f1_score_micro_DT2' (float64)\n",
      "Stored 'f1_score_wt_DT2' (float64)\n",
      "Stored 'precision_score_wt_DT2' (float64)\n",
      "Stored 'recall_score_wt_DT2' (float64)\n"
     ]
    }
   ],
   "source": [
    "print('********Decision Tree Classifier, Standard Scaled, VarianceThreshold','********')\n",
    "f1_score_micro_DT2 = metrics.f1_score(y_test, y_pred_DT2, average='micro')\n",
    "f1_score_wt_DT2 = metrics.f1_score(y_test,y_pred_DT2,average='weighted')\n",
    "precision_score_wt_DT2=metrics.precision_score(y_test, y_pred_DT2, average='weighted')\n",
    "recall_score_wt_DT2=metrics.recall_score(y_test, y_pred_DT2, average='weighted')\n",
    "\n",
    "print('F1-score_micro = ',f1_score_micro_DT2)\n",
    "print('F1-score = ',f1_score_wt_DT2)\n",
    "print('Precision = ',precision_score_wt_DT2)\n",
    "print('Recall Score = ',recall_score_wt_DT2)\n",
    "\n"
   ]
  },
  {
   "cell_type": "markdown",
   "metadata": {},
   "source": [
    "###### DecisionTreeClassifier - Approach 3"
   ]
  },
  {
   "cell_type": "code",
   "execution_count": 10,
   "metadata": {},
   "outputs": [],
   "source": [
    "feature_selection=TruncatedSVD(n_components=500)\n",
    "clf=tree.DecisionTreeClassifier()\n",
    "\n",
    "pipe_clf = make_pipeline(feature_selection,clf)\n",
    "pipe_clf.fit(X_train_scaled, y_train)\n",
    "y_pred_DT3 = pipe_clf.predict(X_test_scaled)\n",
    "\n"
   ]
  },
  {
   "cell_type": "markdown",
   "metadata": {},
   "source": [
    "###### Performance Evaluation for DecisionTreeClassifier - Approach 3"
   ]
  },
  {
   "cell_type": "code",
   "execution_count": 11,
   "metadata": {},
   "outputs": [
    {
     "name": "stdout",
     "output_type": "stream",
     "text": [
      "********Decision Tree Classifier, Standard Scaled, TruncatedSVD=500 ********\n",
      "F1-score_micro =  0.38747149220964683\n",
      "F1-score =  0.3894516152225507\n",
      "Precision =  0.39160867361053275\n",
      "Recall Score =  0.38747149220964683\n",
      "Stored 'f1_score_micro_DT3' (float64)\n",
      "Stored 'f1_score_wt_DT3' (float64)\n",
      "Stored 'precision_score_wt_DT3' (float64)\n",
      "Stored 'recall_score_wt_DT3' (float64)\n"
     ]
    }
   ],
   "source": [
    "print('********Decision Tree Classifier, Standard Scaled, TruncatedSVD=500','********')\n",
    "f1_score_micro_DT3 = metrics.f1_score(y_test, y_pred_DT3, average='micro')\n",
    "f1_score_wt_DT3 = metrics.f1_score(y_test,y_pred_DT3,average='weighted')\n",
    "precision_score_wt_DT3=metrics.precision_score(y_test, y_pred_DT3, average='weighted')\n",
    "recall_score_wt_DT3=metrics.recall_score(y_test, y_pred_DT3, average='weighted')\n",
    "\n",
    "print('F1-score_micro = ',f1_score_micro_DT3)\n",
    "print('F1-score = ',f1_score_wt_DT3)\n",
    "print('Precision = ',precision_score_wt_DT3)\n",
    "print('Recall Score = ',recall_score_wt_DT3)\n",
    "\n"
   ]
  },
  {
   "cell_type": "code",
   "execution_count": null,
   "metadata": {},
   "outputs": [],
   "source": []
  },
  {
   "cell_type": "markdown",
   "metadata": {},
   "source": [
    "## LDA - LinearDiscriminantAnalysis"
   ]
  },
  {
   "cell_type": "markdown",
   "metadata": {},
   "source": [
    "###### LDA - Approach 1"
   ]
  },
  {
   "cell_type": "code",
   "execution_count": 12,
   "metadata": {},
   "outputs": [],
   "source": [
    "feature_selection=PCA(n_components=500)\n",
    "clf=LDA()\n",
    "\n",
    "pipe_clf = make_pipeline(feature_selection,clf)\n",
    "pipe_clf.fit(X_train_scaled, y_train)\n",
    "y_pred_LDA1 = pipe_clf.predict(X_test_scaled)"
   ]
  },
  {
   "cell_type": "markdown",
   "metadata": {},
   "source": [
    "###### Performance Evaluation for LDA - Approach 1"
   ]
  },
  {
   "cell_type": "code",
   "execution_count": 13,
   "metadata": {},
   "outputs": [
    {
     "name": "stdout",
     "output_type": "stream",
     "text": [
      "********LDA, Standard Scaled, PCA=500 ********\n",
      "F1-score_micro =  0.5755696229511691\n",
      "F1-score =  0.5687362071625137\n",
      "Precision =  0.5823183336687469\n",
      "Recall Score =  0.5755696229511691\n",
      "Stored 'f1_score_micro_LDA1' (float64)\n",
      "Stored 'f1_score_wt_LDA1' (float64)\n",
      "Stored 'precision_score_wt_LDA1' (float64)\n",
      "Stored 'recall_score_wt_LDA1' (float64)\n"
     ]
    }
   ],
   "source": [
    "print('********LDA, Standard Scaled, PCA=500','********')\n",
    "f1_score_micro_LDA1 = metrics.f1_score(y_test, y_pred_LDA1, average='micro')\n",
    "f1_score_wt_LDA1 = metrics.f1_score(y_test,y_pred_LDA1,average='weighted')\n",
    "precision_score_wt_LDA1=metrics.precision_score(y_test, y_pred_LDA1, average='weighted')\n",
    "recall_score_wt_LDA1=metrics.recall_score(y_test, y_pred_LDA1, average='weighted')\n",
    "print('F1-score_micro = ',f1_score_micro_LDA1)\n",
    "print('F1-score = ',f1_score_wt_LDA1)\n",
    "print('Precision = ',precision_score_wt_LDA1)\n",
    "print('Recall Score = ',recall_score_wt_LDA1)\n"
   ]
  },
  {
   "cell_type": "markdown",
   "metadata": {},
   "source": [
    "###### LDA - Approach 2"
   ]
  },
  {
   "cell_type": "code",
   "execution_count": 14,
   "metadata": {},
   "outputs": [],
   "source": [
    "feature_selection=VarianceThreshold()\n",
    "clf=LDA()\n",
    "\n",
    "pipe_clf = make_pipeline(feature_selection,clf)\n",
    "pipe_clf.fit(X_train_scaled, y_train)\n",
    "y_pred_LDA2 = pipe_clf.predict(X_test_scaled)"
   ]
  },
  {
   "cell_type": "markdown",
   "metadata": {},
   "source": [
    "###### Performance Evaluation for LDA - Approach 2"
   ]
  },
  {
   "cell_type": "code",
   "execution_count": 15,
   "metadata": {
    "scrolled": true
   },
   "outputs": [
    {
     "name": "stdout",
     "output_type": "stream",
     "text": [
      "********LDA Classifier, Standard Scaled, VarianceThreshold ********\n",
      "F1-score_micro =  0.5794061853912228\n",
      "F1-score =  0.5761158786382456\n",
      "Precision =  0.5979898905398698\n",
      "Recall Score =  0.5794061853912228\n",
      "Stored 'f1_score_micro_LDA2' (float64)\n",
      "Stored 'f1_score_wt_LDA2' (float64)\n",
      "Stored 'precision_score_wt_LDA2' (float64)\n",
      "Stored 'recall_score_wt_LDA2' (float64)\n"
     ]
    }
   ],
   "source": [
    "print('********LDA Classifier, Standard Scaled, VarianceThreshold','********')\n",
    "f1_score_micro_LDA2 = metrics.f1_score(y_test, y_pred_LDA2, average='micro')\n",
    "f1_score_wt_LDA2 = metrics.f1_score(y_test,y_pred_LDA2,average='weighted')\n",
    "precision_score_wt_LDA2=metrics.precision_score(y_test, y_pred_LDA2, average='weighted')\n",
    "recall_score_wt_LDA2=metrics.recall_score(y_test, y_pred_LDA2, average='weighted')\n",
    "\n",
    "print('F1-score_micro = ',f1_score_micro_LDA2)\n",
    "print('F1-score = ',f1_score_wt_LDA2)\n",
    "print('Precision = ',precision_score_wt_LDA2)\n",
    "print('Recall Score = ',recall_score_wt_LDA2)\n"
   ]
  },
  {
   "cell_type": "markdown",
   "metadata": {},
   "source": [
    "###### LDA - Approach 3"
   ]
  },
  {
   "cell_type": "code",
   "execution_count": 16,
   "metadata": {},
   "outputs": [],
   "source": [
    "feature_selection=TruncatedSVD(n_components=500)\n",
    "clf=LDA()\n",
    "\n",
    "pipe_clf = make_pipeline(feature_selection,clf)\n",
    "pipe_clf.fit(X_train_scaled, y_train)\n",
    "y_pred_LDA3 = pipe_clf.predict(X_test_scaled)\n",
    "\n"
   ]
  },
  {
   "cell_type": "markdown",
   "metadata": {},
   "source": [
    "###### Performance Evaluation for LDA - Approach 3"
   ]
  },
  {
   "cell_type": "code",
   "execution_count": 17,
   "metadata": {},
   "outputs": [
    {
     "name": "stdout",
     "output_type": "stream",
     "text": [
      "********LDA, Standard Scaled, TruncatedSVD=500 ********\n",
      "F1-score_micro =  0.5753777948291664\n",
      "F1-score =  0.5667261090449549\n",
      "Precision =  0.5799928260012879\n",
      "Recall Score =  0.5753777948291664\n",
      "Stored 'f1_score_micro_LDA3' (float64)\n",
      "Stored 'f1_score_wt_LDA3' (float64)\n",
      "Stored 'precision_score_wt_LDA3' (float64)\n",
      "Stored 'recall_score_wt_LDA3' (float64)\n"
     ]
    }
   ],
   "source": [
    "print('********LDA, Standard Scaled, TruncatedSVD=500','********')\n",
    "f1_score_micro_LDA3 = metrics.f1_score(y_test, y_pred_LDA3, average='micro')\n",
    "f1_score_wt_LDA3 = metrics.f1_score(y_test,y_pred_LDA3,average='weighted')\n",
    "precision_score_wt_LDA3=metrics.precision_score(y_test, y_pred_LDA3, average='weighted')\n",
    "recall_score_wt_LDA3=metrics.recall_score(y_test, y_pred_LDA3, average='weighted')\n",
    "\n",
    "print('F1-score_micro = ',f1_score_micro_LDA3)\n",
    "print('F1-score = ',f1_score_wt_LDA3)\n",
    "print('Precision = ',precision_score_wt_LDA3)\n",
    "print('Recall Score = ',recall_score_wt_LDA3)\n"
   ]
  },
  {
   "cell_type": "markdown",
   "metadata": {},
   "source": []
  },
  {
   "cell_type": "markdown",
   "metadata": {},
   "source": [
    "## Extra Tree Classifier"
   ]
  },
  {
   "cell_type": "markdown",
   "metadata": {},
   "source": [
    "###### ExtraTreeClassifier - Approach 1"
   ]
  },
  {
   "cell_type": "code",
   "execution_count": 18,
   "metadata": {},
   "outputs": [],
   "source": [
    "feature_selection=PCA(n_components=500)\n",
    "clf=ExtraTreesClassifier()\n",
    "\n",
    "pipe_clf = make_pipeline(feature_selection,clf)\n",
    "pipe_clf.fit(X_train_scaled, y_train)\n",
    "y_pred_ET1 = pipe_clf.predict(X_test_scaled)"
   ]
  },
  {
   "cell_type": "markdown",
   "metadata": {},
   "source": [
    "###### Performance Evaluation for ExtraTreeClassifier - Approach 1"
   ]
  },
  {
   "cell_type": "code",
   "execution_count": 19,
   "metadata": {},
   "outputs": [
    {
     "name": "stdout",
     "output_type": "stream",
     "text": [
      "********Extra Tree Classifier, Standard Scaled, PCA=500 ********\n",
      "F1-score_micro =  0.4719611228339408\n",
      "F1-score =  0.43425414482077407\n",
      "Precision =  0.42944698811766663\n",
      "Recall Score =  0.4719611228339408\n",
      "Stored 'f1_score_micro_ET1' (float64)\n",
      "Stored 'f1_score_wt_ET1' (float64)\n",
      "Stored 'precision_score_wt_ET1' (float64)\n",
      "Stored 'recall_score_wt_ET1' (float64)\n"
     ]
    }
   ],
   "source": [
    "print('********Extra Tree Classifier, Standard Scaled, PCA=500','********')\n",
    "f1_score_micro_ET1 = metrics.f1_score(y_test, y_pred_ET1, average='micro')\n",
    "f1_score_wt_ET1 = metrics.f1_score(y_test,y_pred_ET1,average='weighted')\n",
    "precision_score_wt_ET1=metrics.precision_score(y_test, y_pred_ET1, average='weighted')\n",
    "recall_score_wt_ET1=metrics.recall_score(y_test, y_pred_ET1, average='weighted')\n",
    "print('F1-score_micro = ',f1_score_micro_ET1)\n",
    "print('F1-score = ',f1_score_wt_ET1)\n",
    "print('Precision = ',precision_score_wt_ET1)\n",
    "print('Recall Score = ',recall_score_wt_ET1)\n"
   ]
  },
  {
   "cell_type": "markdown",
   "metadata": {},
   "source": [
    "###### ExtraTree - Approach 2\n"
   ]
  },
  {
   "cell_type": "code",
   "execution_count": 20,
   "metadata": {},
   "outputs": [],
   "source": [
    "\n",
    "feature_selection=VarianceThreshold()\n",
    "clf=ExtraTreesClassifier()\n",
    "\n",
    "pipe_clf = make_pipeline(feature_selection,clf)\n",
    "pipe_clf.fit(X_train_scaled, y_train)\n",
    "y_pred_ET2 = pipe_clf.predict(X_test_scaled)\n",
    "\n",
    "\n",
    "\n"
   ]
  },
  {
   "cell_type": "markdown",
   "metadata": {},
   "source": [
    "###### Performance Evaluation for ExtraTreeClassifier - Approach 2\n",
    "\n",
    "\n"
   ]
  },
  {
   "cell_type": "code",
   "execution_count": 21,
   "metadata": {},
   "outputs": [
    {
     "name": "stdout",
     "output_type": "stream",
     "text": [
      "********Extra Tree Classifier, Standard Scaled,  VarianceThreshold ********\n",
      "F1-score_micro =  0.6060702943495961\n",
      "F1-score =  0.5734668809605376\n",
      "Precision =  0.5647865710491858\n",
      "Recall Score =  0.6060702943495961\n",
      "Stored 'f1_score_micro_ET2' (float64)\n",
      "Stored 'f1_score_wt_ET2' (float64)\n",
      "Stored 'precision_score_wt_ET2' (float64)\n",
      "Stored 'recall_score_wt_ET2' (float64)\n"
     ]
    }
   ],
   "source": [
    "\n",
    "print('********Extra Tree Classifier, Standard Scaled,  VarianceThreshold','********')\n",
    "f1_score_micro_ET2 = metrics.f1_score(y_test, y_pred_ET2, average='micro')\n",
    "f1_score_wt_ET2 = metrics.f1_score(y_test,y_pred_ET2,average='weighted')\n",
    "precision_score_wt_ET2=metrics.precision_score(y_test, y_pred_ET2, average='weighted')\n",
    "recall_score_wt_ET2=metrics.recall_score(y_test, y_pred_ET2, average='weighted')\n",
    "\n",
    "print('F1-score_micro = ',f1_score_micro_ET2)\n",
    "print('F1-score = ',f1_score_wt_ET2)\n",
    "print('Precision = ',precision_score_wt_ET2)\n",
    "print('Recall Score = ',recall_score_wt_ET2)\n"
   ]
  },
  {
   "cell_type": "markdown",
   "metadata": {},
   "source": [
    "###### ExtraTreeClassifier - Approach 3\n"
   ]
  },
  {
   "cell_type": "code",
   "execution_count": 22,
   "metadata": {},
   "outputs": [],
   "source": [
    "\n",
    "feature_selection=TruncatedSVD(n_components=500)\n",
    "clf=ExtraTreesClassifier()\n",
    "\n",
    "pipe_clf = make_pipeline(feature_selection,clf)\n",
    "pipe_clf.fit(X_train_scaled, y_train)\n",
    "y_pred_ET3 = pipe_clf.predict(X_test_scaled)\n"
   ]
  },
  {
   "cell_type": "markdown",
   "metadata": {},
   "source": [
    "###### Performance Evaluation for ExtraTreeClassifier - Approach 3\n"
   ]
  },
  {
   "cell_type": "code",
   "execution_count": 23,
   "metadata": {},
   "outputs": [
    {
     "name": "stdout",
     "output_type": "stream",
     "text": [
      "********Extra Tree Classifier, Standard Scaled, TruncatedSVD ********\n",
      "F1-score_micro =  0.4765223692904491\n",
      "F1-score =  0.4388167527102153\n",
      "Precision =  0.4332451052218577\n",
      "Recall Score =  0.4765223692904491\n",
      "Stored 'f1_score_micro_ET3' (float64)\n",
      "Stored 'f1_score_wt_ET3' (float64)\n",
      "Stored 'precision_score_wt_ET3' (float64)\n",
      "Stored 'recall_score_wt_ET3' (float64)\n"
     ]
    }
   ],
   "source": [
    "\n",
    "\n",
    "print('********Extra Tree Classifier, Standard Scaled, TruncatedSVD','********')\n",
    "f1_score_micro_ET3 = metrics.f1_score(y_test, y_pred_ET3, average='micro')\n",
    "f1_score_wt_ET3 = metrics.f1_score(y_test,y_pred_ET3,average='weighted')\n",
    "precision_score_wt_ET3=metrics.precision_score(y_test, y_pred_ET3, average='weighted')\n",
    "recall_score_wt_ET3=metrics.recall_score(y_test, y_pred_ET3, average='weighted')\n",
    "\n",
    "print('F1-score_micro = ',f1_score_micro_ET3)\n",
    "print('F1-score = ',f1_score_wt_ET3)\n",
    "print('Precision = ',precision_score_wt_ET3)\n",
    "print('Recall Score = ',recall_score_wt_ET3)\n"
   ]
  },
  {
   "cell_type": "code",
   "execution_count": null,
   "metadata": {},
   "outputs": [],
   "source": []
  },
  {
   "cell_type": "code",
   "execution_count": null,
   "metadata": {},
   "outputs": [],
   "source": []
  },
  {
   "cell_type": "code",
   "execution_count": null,
   "metadata": {},
   "outputs": [],
   "source": [
    "'f1_score_micro_DT1':f1_score_micro_DT1,\n",
    "'f1_score_micro_DT2':f1_score_micro_DT2,\n",
    "'f1_score_micro_DT3':f1_score_micro_DT3,\n",
    "'f1_score_micro_ET1':f1_score_micro_ET1,\n",
    "'f1_score_micro_ET2':f1_score_micro_ET2,\n",
    "'f1_score_micro_ET3':f1_score_micro_ET3,\n",
    "'f1_score_micro_ET3':f1_score_micro_ET3,\n",
    "'f1_score_micro_LDA1':f1_score_micro_LDA1,\n",
    "'f1_score_micro_LDA2':f1_score_micro_LDA2,\n",
    "'f1_score_micro_LDA3':f1_score_micro_LDA3,\n",
    "    \n",
    "'f1_score_wt_DT1':f1_score_wt_DT1,\n",
    "'f1_score_wt_DT2':f1_score_wt_DT2,\n",
    "'f1_score_wt_DT3':f1_score_wt_DT3,\n",
    "'f1_score_wt_ET1':f1_score_wt_ET1,\n",
    "'f1_score_wt_ET2':f1_score_wt_ET2,\n",
    "'f1_score_wt_ET3':f1_score_wt_ET3,\n",
    "'f1_score_wt_ET3':f1_score_wt_ET3,\n",
    "'f1_score_wt_LDA1':f1_score_wt_LDA1,\n",
    "'f1_score_wt_LDA2':f1_score_wt_LDA2,\n",
    "'f1_score_wt_LDA3':f1_score_wt_LDA3,\n",
    "    \n",
    "'precision_score_wt_DT1':precision_score_wt_DT1,\n",
    "'precision_score_wt_DT2':precision_score_wt_DT2,\n",
    "'precision_score_wt_DT3':precision_score_wt_DT3,\n",
    "'precision_score_wt_ET1':precision_score_wt_ET1,\n",
    "'precision_score_wt_ET2':precision_score_wt_ET2,\n",
    "'precision_score_wt_ET3':precision_score_wt_ET3,\n",
    "'precision_score_wt_ET3':precision_score_wt_ET3,\n",
    "'precision_score_wt_LDA1':precision_score_wt_LDA1,\n",
    "'precision_score_wt_LDA2':precision_score_wt_LDA2,\n",
    "'precision_score_wt_LDA3':precision_score_wt_LDA3,\n",
    "'recall_score_wt_DT1':recall_score_wt_DT1,\n",
    "'recall_score_wt_DT2':recall_score_wt_DT2,\n",
    "'recall_score_wt_DT3':recall_score_wt_DT3,\n",
    "'recall_score_wt_ET1':recall_score_wt_ET1,\n",
    "'recall_score_wt_ET2':recall_score_wt_ET2,\n",
    "'recall_score_wt_ET3':recall_score_wt_ET3,\n",
    "'recall_score_wt_ET3':recall_score_wt_ET3,\n",
    "'recall_score_wt_LDA1':recall_score_wt_LDA1,\n",
    "'recall_score_wt_LDA2':recall_score_wt_LDA2,\n",
    "'recall_score_wt_LDA3':recall_score_wt_LDA3"
   ]
  },
  {
   "cell_type": "code",
   "execution_count": null,
   "metadata": {},
   "outputs": [],
   "source": []
  },
  {
   "cell_type": "code",
   "execution_count": 36,
   "metadata": {},
   "outputs": [],
   "source": [
    "import pickle\n"
   ]
  },
  {
   "cell_type": "code",
   "execution_count": 38,
   "metadata": {},
   "outputs": [],
   "source": [
    "algorithm_2 = {'f1_score_micro_DT1':f1_score_micro_DT1,\n",
    "'f1_score_micro_DT2':f1_score_micro_DT2,\n",
    "'f1_score_micro_DT3':f1_score_micro_DT3,\n",
    "'f1_score_micro_ET1':f1_score_micro_ET1,\n",
    "'f1_score_micro_ET2':f1_score_micro_ET2,\n",
    "'f1_score_micro_ET3':f1_score_micro_ET3,\n",
    "'f1_score_micro_ET3':f1_score_micro_ET3,\n",
    "'f1_score_micro_LDA1':f1_score_micro_LDA1,\n",
    "'f1_score_micro_LDA2':f1_score_micro_LDA2,\n",
    "'f1_score_micro_LDA3':f1_score_micro_LDA3,\n",
    "    \n",
    "'f1_score_wt_DT1':f1_score_wt_DT1,\n",
    "'f1_score_wt_DT2':f1_score_wt_DT2,\n",
    "'f1_score_wt_DT3':f1_score_wt_DT3,\n",
    "'f1_score_wt_ET1':f1_score_wt_ET1,\n",
    "'f1_score_wt_ET2':f1_score_wt_ET2,\n",
    "'f1_score_wt_ET3':f1_score_wt_ET3,\n",
    "'f1_score_wt_ET3':f1_score_wt_ET3,\n",
    "'f1_score_wt_LDA1':f1_score_wt_LDA1,\n",
    "'f1_score_wt_LDA2':f1_score_wt_LDA2,\n",
    "'f1_score_wt_LDA3':f1_score_wt_LDA3,\n",
    "    \n",
    "'precision_score_wt_DT1':precision_score_wt_DT1,\n",
    "'precision_score_wt_DT2':precision_score_wt_DT2,\n",
    "'precision_score_wt_DT3':precision_score_wt_DT3,\n",
    "'precision_score_wt_ET1':precision_score_wt_ET1,\n",
    "'precision_score_wt_ET2':precision_score_wt_ET2,\n",
    "'precision_score_wt_ET3':precision_score_wt_ET3,\n",
    "'precision_score_wt_ET3':precision_score_wt_ET3,\n",
    "'precision_score_wt_LDA1':precision_score_wt_LDA1,\n",
    "'precision_score_wt_LDA2':precision_score_wt_LDA2,\n",
    "'precision_score_wt_LDA3':precision_score_wt_LDA3,\n",
    "'recall_score_wt_DT1':recall_score_wt_DT1,\n",
    "'recall_score_wt_DT2':recall_score_wt_DT2,\n",
    "'recall_score_wt_DT3':recall_score_wt_DT3,\n",
    "'recall_score_wt_ET1':recall_score_wt_ET1,\n",
    "'recall_score_wt_ET2':recall_score_wt_ET2,\n",
    "'recall_score_wt_ET3':recall_score_wt_ET3,\n",
    "'recall_score_wt_ET3':recall_score_wt_ET3,\n",
    "'recall_score_wt_LDA1':recall_score_wt_LDA1,\n",
    "'recall_score_wt_LDA2':recall_score_wt_LDA2,\n",
    "'recall_score_wt_LDA3':recall_score_wt_LDA3}\n",
    "pickle.dump(algorithm_2,open(\"algorithm_2.p\",\"wb\"))"
   ]
  },
  {
   "cell_type": "code",
   "execution_count": null,
   "metadata": {},
   "outputs": [],
   "source": []
  },
  {
   "cell_type": "code",
   "execution_count": null,
   "metadata": {},
   "outputs": [],
   "source": []
  }
 ],
 "metadata": {
  "kernelspec": {
   "display_name": "Python 3",
   "language": "python",
   "name": "python3"
  },
  "language_info": {
   "codemirror_mode": {
    "name": "ipython",
    "version": 3
   },
   "file_extension": ".py",
   "mimetype": "text/x-python",
   "name": "python",
   "nbconvert_exporter": "python",
   "pygments_lexer": "ipython3",
   "version": "3.7.0"
  }
 },
 "nbformat": 4,
 "nbformat_minor": 2
}
