{
 "cells": [
  {
   "cell_type": "code",
   "execution_count": 2,
   "metadata": {},
   "outputs": [],
   "source": [
    "import numpy as np\n",
    "import pandas as pd\n",
    "import pickle"
   ]
  },
  {
   "cell_type": "code",
   "execution_count": 3,
   "metadata": {},
   "outputs": [],
   "source": [
    "algorithm_1 = pickle.load(open(\"algorithm_1.p\",\"rb\"))\n",
    "algorithm_2 = pickle.load(open(\"algorithm_2.p\",\"rb\"))\n",
    "algorithm_3 = pickle.load(open(\"algorithm_3.p\",\"rb\"))"
   ]
  },
  {
   "cell_type": "code",
   "execution_count": 4,
   "metadata": {},
   "outputs": [],
   "source": [
    "sampled_variables = pickle.load(open(\"sampled_variables.p\", 'rb'))"
   ]
  },
  {
   "cell_type": "code",
   "execution_count": 5,
   "metadata": {},
   "outputs": [],
   "source": [
    "for key in algorithm_1.keys():\n",
    "    var = key\n",
    "    exec(var + \" = algorithm_1[key]\")\n"
   ]
  },
  {
   "cell_type": "code",
   "execution_count": 6,
   "metadata": {},
   "outputs": [],
   "source": [
    "for key in algorithm_2.keys():\n",
    "    var = key\n",
    "    exec(var + \" = algorithm_2[key]\")\n"
   ]
  },
  {
   "cell_type": "code",
   "execution_count": 7,
   "metadata": {},
   "outputs": [],
   "source": [
    "for key in algorithm_3.keys():\n",
    "    var = key\n",
    "    exec(var + \" = algorithm_3[key]\")"
   ]
  },
  {
   "cell_type": "code",
   "execution_count": 8,
   "metadata": {},
   "outputs": [],
   "source": [
    "for key in sampled_variables.keys():\n",
    "    var = key\n",
    "    exec(var + \" = sampled_variables[key]\")"
   ]
  },
  {
   "cell_type": "code",
   "execution_count": 9,
   "metadata": {},
   "outputs": [],
   "source": [
    "f1_score_wt_pca = [f1_score_wt_DT1, f1_score_wt_ET1, f1_score_wt_LDA1,\n",
    "                  f1_score_wt_AB1, f1_score_wt_MLP1, f1_score_wt_BGKNN1,\n",
    "                  f1_score_wt_1_GNB1, f1_score_wt_1_LR1, f1_score_wt_1_RF1\n",
    "                  ]\n",
    "f1_score_micro_pca = [f1_score_micro_DT1, f1_score_micro_ET1, f1_score_micro_LDA1,\n",
    "                      f1_score_micro_AB1, f1_score_micro_MLP1, f1_score_micro_BGKNN1,\n",
    "                      f1_score_micro_1_GNB1, f1_score_micro_1_LR1, f1_score_micro_1_RF1, \n",
    "                      \n",
    "                     ]\n",
    "precision_score_pca = [precision_score_wt_DT1, precision_score_wt_ET1, precision_score_wt_LDA1,\n",
    "                      precision_score_wt_AB1, precision_score_wt_MLP1, precision_score_wt_BGKNN1,\n",
    "                      precision_score_wt_1_GNB1, precision_score_wt_1_LR1, precision_score_wt_1_RF1\n",
    "                      ]\n",
    "recall_score_pca = [recall_score_wt_DT1, recall_score_wt_ET1, recall_score_wt_LDA1,   \n",
    "                   recall_score_wt_AB1, recall_score_wt_MLP1, recall_score_wt_BGKNN1,\n",
    "                   recall_score_wt_1_GNB1,recall_score_wt_1_LR1, recall_score_wt_1_RF1\n",
    "                    ]"
   ]
  },
  {
   "cell_type": "code",
   "execution_count": 10,
   "metadata": {},
   "outputs": [],
   "source": [
    "f1_score_wt_vt = [f1_score_wt_DT2, f1_score_wt_ET2, f1_score_wt_LDA2,\n",
    "                  f1_score_wt_AB2, f1_score_wt_MLP2,\n",
    "                  f1_score_wt_BGET2, f1_score_wt_BRF2,f1_score_wt_BLDA2, f1_score_wt_BDT2,\n",
    "                  f1_score_wt_2_GNB2, f1_score_wt_2_LR2, f1_score_wt_2_RF2\n",
    "                 ]\n",
    "f1_score_micro_vt = [f1_score_micro_DT2, f1_score_micro_ET2, f1_score_micro_LDA2,\n",
    "                    f1_score_micro_AB2, f1_score_micro_MLP2,\n",
    "                    f1_score_micro_BGET2, f1_score_micro_BRF2, f1_score_micro_BLDA2, f1_score_micro_BDT2,\n",
    "                     f1_score_micro_2_GNB2, f1_score_micro_2_LR2, f1_score_micro_2_RF2\n",
    "                    ]\n",
    "precision_score_vt = [precision_score_wt_DT2, precision_score_wt_ET2, precision_score_wt_LDA2,\n",
    "                     precision_score_wt_AB1, precision_score_wt_MLP1,\n",
    "                     precision_score_wt_BGET2,precision_score_wt_BGRF2, precision_score_wt_BLDA2, precision_score_wt_BDT2,\n",
    "                      precision_score_wt_2_GNB2, precision_score_wt_2_LR2 , precision_score_wt_2_RF2\n",
    "                     ]\n",
    "recall_score_vt = [recall_score_wt_DT2, recall_score_wt_ET2, recall_score_wt_LDA2,\n",
    "                  recall_score_wt_AB2, recall_score_wt_MLP2,\n",
    "                   recall_score_wt_BGET2,recall_score_wt_BGRF2, recall_score_wt_BLDA2, recall_score_wt_BDT2,\n",
    "                   recall_score_wt_2_GNB2, recall_score_wt_2_LR2, recall_score_wt_2_RF2\n",
    "                  ]"
   ]
  },
  {
   "cell_type": "code",
   "execution_count": 9,
   "metadata": {},
   "outputs": [],
   "source": [
    "f1_score_wt_svd = [f1_score_wt_DT3, f1_score_wt_ET3, f1_score_wt_LDA3,\n",
    "                   f1_score_wt_AB3, f1_score_wt_MLP3,\n",
    "                   f1_score_wt_2_GNB3, f1_score_tsvd_wt_LR3, f1_score_wt_2_RF3\n",
    "                  ]\n",
    "f1_score_micro_svd = [f1_score_micro_DT3, f1_score_micro_ET3, f1_score_micro_LDA3,\n",
    "                     f1_score_micro_AB3, f1_score_micro_MLP3,\n",
    "                      f1_score_micro_2_GNB3, f1_score_tsvd_micro_LR3, f1_score_micro_2_RF3\n",
    "                     \n",
    "                     ]\n",
    "precision_score_svd = [precision_score_wt_DT3, precision_score_wt_ET3, precision_score_wt_LDA3,\n",
    "                      precision_score_wt_AB3, precision_score_wt_MLP3,\n",
    "                       precision_score_wt_2_GNB3, precision_score_tsvd_wt_LR3, precision_score_wt_2_RF3\n",
    "                      ]\n",
    "recall_score_svd = [recall_score_wt_DT3, recall_score_wt_ET3, recall_score_wt_LDA3,\n",
    "                   recall_score_wt_AB3, recall_score_wt_MLP3,\n",
    "                    recall_score_wt_2_GNB3, recall_score_tsvd_wt_LR3, recall_score_wt_2_RF3\n",
    "                   ]"
   ]
  },
  {
   "cell_type": "markdown",
   "metadata": {},
   "source": [
    "### Comparison of Accuracy and F1Scores"
   ]
  },
  {
   "cell_type": "code",
   "execution_count": 22,
   "metadata": {},
   "outputs": [
    {
     "data": {
      "text/plain": [
       "<matplotlib.legend.Legend at 0x128dc4a58>"
      ]
     },
     "execution_count": 22,
     "metadata": {},
     "output_type": "execute_result"
    },
    {
     "data": {
      "text/plain": [
       "<Figure size 18000x4320 with 0 Axes>"
      ]
     },
     "metadata": {},
     "output_type": "display_data"
    },
    {
     "data": {
      "image/png": "[encoded data removed]",
      "text/plain": [
       "<Figure size 432x288 with 1 Axes>"
      ]
     },
     "metadata": {},
     "output_type": "display_data"
    }
   ],
   "source": [
    "import matplotlib.pyplot as plt\n",
    "fig = plt.gcf()\n",
    "fig.set_size_inches(250, 60)\n",
    "\n",
    "f1_score_wt_vt = [f1_score_wt_DT2, f1_score_wt_ET2, f1_score_wt_LDA2,\n",
    "                  f1_score_wt_AB2, f1_score_wt_MLP2,\n",
    "                  f1_score_wt_BGET2, f1_score_wt_BRF2,f1_score_wt_BLDA2, f1_score_wt_BDT2,\n",
    "                  f1_score_wt_2_GNB2, f1_score_wt_2_LR2, f1_score_wt_2_RF2\n",
    "                 ]\n",
    "\n",
    "f1_score_micro_vt = [f1_score_micro_DT2, f1_score_micro_ET2, f1_score_micro_LDA2,\n",
    "                    f1_score_micro_AB2, f1_score_micro_MLP2,\n",
    "                    f1_score_micro_BGET2, f1_score_micro_BRF2, f1_score_micro_BLDA2, f1_score_micro_BDT2,\n",
    "                     f1_score_micro_2_GNB2, f1_score_micro_2_LR2, f1_score_micro_2_RF2\n",
    "                    ]\n",
    "\n",
    "ind = np.arange(len(f1_score_wt_vt))\n",
    "width = 0.25\n",
    "\n",
    "fig, ax = plt.subplots()\n",
    "rects1 = ax.bar(ind + 0.00, f1_score_wt_vt, width, color='red', label='F1-Weighted')\n",
    "rects2 = ax.bar(ind + 0.25, f1_score_micro_vt, width, color='darkblue', label='Accuracy')\n",
    "\n",
    "\n",
    "ax.set_title('F1 and Accuracy Scores Comparison', fontsize=14)\n",
    "ax.set_xlabel(\"Algorithms\", fontsize = 12)\n",
    "ax.set_ylabel(\"F1 and Accuracy\", fontsize = 12)\n",
    "\n",
    "ax.set_xticks(ind)\n",
    "ax.set_xticklabels(('DT','ET', 'LDA','AB', 'MLP', 'BGET', 'BRF', 'BLDA', 'BDT', 'GNB', 'LR', 'RF'), fontsize=8)\n",
    "ax.legend(loc='lower right')\n"
   ]
  },
  {
   "cell_type": "markdown",
   "metadata": {},
   "source": [
    "### Comparison between F1 scores obatained between different dimensionality reduction techniques - PCA, VarianceThreshold, TruncatedSVD \n",
    "\n"
   ]
  },
  {
   "cell_type": "code",
   "execution_count": 13,
   "metadata": {},
   "outputs": [
    {
     "data": {
      "image/png": "[encoded data removed]",
      "text/plain": [
       "<Figure size 432x288 with 1 Axes>"
      ]
     },
     "metadata": {},
     "output_type": "display_data"
    }
   ],
   "source": [
    "import matplotlib.pyplot as plt\n",
    "\n",
    "\n",
    "f1_score_wt_pca_upd = [f1_score_wt_DT1, f1_score_wt_ET1, f1_score_wt_LDA1,\n",
    "                  f1_score_wt_AB1, f1_score_wt_MLP1,\n",
    "                  f1_score_wt_1_GNB1, f1_score_wt_1_LR1, f1_score_wt_1_RF1]\n",
    "\n",
    "f1_score_wt_vt_upd = [f1_score_wt_DT2, f1_score_wt_ET2, f1_score_wt_LDA2,\n",
    "                  f1_score_wt_AB2, f1_score_wt_MLP2,\n",
    "                  f1_score_wt_2_GNB2, f1_score_wt_2_LR2, f1_score_wt_2_RF2]\n",
    "\n",
    "f1_score_wt_svd_upd = [f1_score_wt_DT3, f1_score_wt_ET3, f1_score_wt_LDA3,\n",
    "                   f1_score_wt_AB3, f1_score_wt_MLP3,\n",
    "                   f1_score_wt_2_GNB3, f1_score_tsvd_wt_LR3, f1_score_wt_2_RF3]\n",
    "\n",
    "\n",
    "axes = plt.gca()\n",
    "axes.set_ylim([0,0.6])\n",
    "\n",
    "x=np.arange(1,9)\n",
    "# x = np.linspace(0.1, 2 * np.pi, 8)\n",
    "plt.yticks(np.arange(0, 0.7, 0.05))\n",
    "\n",
    "markerline1, stemlines, _ = plt.stem(x, f1_score_wt_pca_upd, '-.')\n",
    "plt.setp(markerline1, 'markerfacecolor', 'b', label='PCA')\n",
    "\n",
    "markerline2, stemlines, _ = plt.stem(x, f1_score_wt_vt_upd, '-.')\n",
    "plt.setp(markerline2, 'markerfacecolor', 'r', label='VT')\n",
    "\n",
    "markerline3, stemlines, _ = plt.stem(x, f1_score_wt_svd_upd, '-.')\n",
    "plt.setp(markerline3, 'markerfacecolor', 'g', label='SVD')\n",
    "plt.legend(loc='lower right')\n",
    "\n",
    "\n",
    "axes.set_xticklabels([' ', 'DT','ET', 'LDA','AB', 'MLP', 'GNB', 'LR', 'RF'])\n",
    "axes.set_title(\"F1 scores - PCA, VT, SVD\", fontsize=14)\n",
    "plt.xlabel(\"Algorithms\", fontsize = 12)\n",
    "plt.ylabel(\"F1 Scores\", fontsize = 12)\n",
    "\n",
    "plt.show()"
   ]
  },
  {
   "cell_type": "markdown",
   "metadata": {},
   "source": [
    "###### Comparison of F1 Scores with and without Sampling"
   ]
  },
  {
   "cell_type": "code",
   "execution_count": 21,
   "metadata": {},
   "outputs": [
    {
     "data": {
      "text/plain": [
       "<matplotlib.legend.Legend at 0x116413be0>"
      ]
     },
     "execution_count": 21,
     "metadata": {},
     "output_type": "execute_result"
    },
    {
     "data": {
      "image/png": "[encoded data removed]",
      "text/plain": [
       "<Figure size 432x288 with 1 Axes>"
      ]
     },
     "metadata": {},
     "output_type": "display_data"
    }
   ],
   "source": [
    "f1_score_with_sampling = [f1_score_wt_DT_ds, f1_score_wt_ET_ds, f1_score_wt_LDA_ds,\n",
    "                          f1_score_wt_AB_ds, f1_score_wt_MLP_ds,\n",
    "                          f1_score_wt_BET_ds, f1_score_wt_BRF_ds, f1_score_wt_BLDA_ds, f1_score_wt_BDT_ds,\n",
    "                          f1_score_wt_NB_ds, f1_score_wt_LR_ds, f1_score_wt_RF_ds\n",
    "                         ]\n",
    "\n",
    "f1_score_without_sampling = [f1_score_micro_DT2, f1_score_micro_ET2, f1_score_micro_LDA2,\n",
    "                    f1_score_micro_AB2, f1_score_micro_MLP2,\n",
    "                    f1_score_micro_BGET2, f1_score_micro_BRF2, f1_score_micro_BLDA2, f1_score_micro_BDT2,\n",
    "                     f1_score_micro_2_GNB2, f1_score_micro_2_LR2, f1_score_micro_2_RF2]\n",
    "\n",
    "ind = np.arange(len(f1_score_with_sampling))\n",
    "width = 0.25\n",
    "\n",
    "fig, ax = plt.subplots()\n",
    "rects1 = ax.bar(ind + 0.00, f1_score_with_sampling, width, color='pink', label='F1-W-Sampling')\n",
    "rects2 = ax.bar(ind + 0.25, f1_score_without_sampling, width, color='seagreen', label='F1-WO-Sampling')\n",
    "\n",
    "\n",
    "ax.set_title('F1 Scores Comparison - with and without Sampling', fontsize=14)\n",
    "ax.set_xlabel(\"Algorithms\", fontsize = 12)\n",
    "ax.set_ylabel(\"F1 Scores\", fontsize = 12)\n",
    "\n",
    "ax.set_xticks(ind)\n",
    "ax.set_xticklabels(('DT','ET', 'LDA','AB', 'MLP', 'BGET', 'BRF', 'BLDA', 'BDT', 'GNB', 'LR', 'RF'), fontsize=8)\n",
    "ax.legend(loc='lower right')"
   ]
  },
  {
   "cell_type": "markdown",
   "metadata": {},
   "source": [
    "### References\n",
    "#### https://stackoverflow.com/questions/41538681/plot-two-lists-with-different-color-with-stem"
   ]
  },
  {
   "cell_type": "code",
   "execution_count": null,
   "metadata": {},
   "outputs": [],
   "source": []
  }
 ],
 "metadata": {
  "kernelspec": {
   "display_name": "Python 3",
   "language": "python",
   "name": "python3"
  },
  "language_info": {
   "codemirror_mode": {
    "name": "ipython",
    "version": 3
   },
   "file_extension": ".py",
   "mimetype": "text/x-python",
   "name": "python",
   "nbconvert_exporter": "python",
   "pygments_lexer": "ipython3",
   "version": "3.6.5"
  }
 },
 "nbformat": 4,
 "nbformat_minor": 2
}
