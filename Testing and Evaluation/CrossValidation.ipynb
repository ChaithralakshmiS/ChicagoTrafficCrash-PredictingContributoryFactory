{
 "cells": [
  {
   "cell_type": "markdown",
   "metadata": {},
   "source": [
    "### CROSS VALIDATION"
   ]
  },
  {
   "cell_type": "code",
   "execution_count": 4,
   "metadata": {},
   "outputs": [],
   "source": [
    "import pandas as pd\n",
    "import numpy as np\n",
    "import time\n",
    "\n",
    "# matplotlib\n",
    "import matplotlib.pyplot as plt\n",
    "import matplotlib.image as mpimg\n",
    "from matplotlib.colors import ListedColormap\n",
    "\n",
    "#sklearn\n",
    "from sklearn import datasets, svm, metrics,tree\n",
    "from sklearn.datasets import make_classification\n",
    "from sklearn.model_selection import train_test_split\n",
    "#preprocessing\n",
    "from sklearn.preprocessing import StandardScaler,normalize\n",
    "# Dimenionality Reduction\n",
    "from sklearn.decomposition import PCA\n",
    "from sklearn.discriminant_analysis import LinearDiscriminantAnalysis\n",
    "from sklearn.discriminant_analysis import LinearDiscriminantAnalysis as LDA\n",
    "from sklearn import random_projection\n",
    "#Feature selection\n",
    "from sklearn.feature_selection import VarianceThreshold\n",
    "#Under sampling\n",
    "from imblearn.under_sampling import RandomUnderSampler\n",
    "#Over sampling\n",
    "from imblearn.over_sampling import SMOTE, BorderlineSMOTE, SVMSMOTE, SMOTENC,RandomOverSampler\n",
    "#Combined sampling\n",
    "from imblearn.combine import SMOTETomek\n",
    "#Algorithms\n",
    "from sklearn.neighbors import KNeighborsClassifier\n",
    "from sklearn.ensemble import VotingClassifier,AdaBoostClassifier,RandomForestClassifier,ExtraTreesClassifier,GradientBoostingClassifier,GradientBoostingRegressor\n",
    "from sklearn.tree import DecisionTreeClassifier\n",
    "from sklearn.naive_bayes import BernoulliNB,GaussianNB\n",
    "from sklearn.neural_network import MLPClassifier\n",
    "from sklearn.ensemble import BaggingClassifier\n",
    "from sklearn.linear_model import LogisticRegression,RidgeClassifier,Perceptron,PassiveAggressiveClassifier,RidgeClassifierCV\n",
    "from sklearn.svm import SVC\n",
    "from sklearn.decomposition import TruncatedSVD\n",
    "from sklearn.utils import resample\n",
    "from sklearn.pipeline import *\n",
    "from sklearn import metrics\n",
    "from sklearn.metrics import f1_score,confusion_matrix,classification_report,make_scorer,average_precision_score,precision_recall_curve\n",
    "\n",
    "#import pandas_ml as pdml\n",
    "\n",
    "import warnings\n",
    "warnings.filterwarnings(\"ignore\")\n",
    "\n",
    "from scipy.stats import itemfreq\n",
    "import importlib\n",
    "from importlib import reload  \n",
    "from collections import defaultdict,Counter\n",
    "\n",
    "from sklearn import preprocessing\n",
    "%matplotlib inline \n",
    "pd.options.display.max_columns=200\n",
    "\n",
    "\n",
    "from sklearn.metrics import accuracy_score,f1_score\n",
    "from sklearn.model_selection import cross_val_score\n",
    "\n",
    "\n",
    "np.random.seed(42)"
   ]
  },
  {
   "cell_type": "code",
   "execution_count": 5,
   "metadata": {},
   "outputs": [
    {
     "name": "stdout",
     "output_type": "stream",
     "text": [
      "CRASH :  (234866, 23)\n",
      "VEHICLE :  (474634, 17)\n",
      "PEOPLE :  (413775, 16)\n",
      "['LANE_CNT', 'INTERSECTION_RELATED_I', 'NOT_RIGHT_OF_WAY_I', 'DOORING_I', 'WORK_ZONE_I', 'NUM_UNITS']\n",
      "['UNIT_TYPE', 'VEHICLE_ID', 'CMRC_VEH_I', 'VEHICLE_YEAR', 'VEHICLE_DEFECT', 'VEHICLE_TYPE', 'VEHICLE_USE', 'MANEUVER', 'EXCEED_SPEED_LIMIT_I', 'CMV_ID', 'GVWR', 'TOTAL_VEHICLE_LENGTH', 'AXLE_CNT', 'VEHICLE_CONFIG']\n",
      "['VEHICLE_ID', 'SEX', 'AGE', 'DRIVERS_LICENSE_CLASS', 'SAFETY_EQUIPMENT', 'DRIVER_ACTION', 'DRIVER_VISION', 'PHYSICAL_CONDITION', 'PEDPEDAL_ACTION', 'PEDPEDAL_VISIBILITY', 'PEDPEDAL_LOCATION', 'BAC_RESULT VALUE', 'CELL_PHONE_USE']\n",
      "[]\n",
      "[]\n",
      "[]\n",
      "Vpa rd_no :  (234682, 1)\n",
      "Vpa unit 1 :  (234732, 31)\n",
      "Vpa unit 2 :  (234762, 61)\n",
      "Vpa unit 3 :  (234762, 91)\n",
      "Vpa unit 4 :  (234762, 121)\n",
      "Vpa unit 5 :  (234762, 151)\n",
      "Vpa unit 6 :  (234762, 181)\n",
      "cvp with duplicates: (234641, 203)\n",
      "cvp without duplicates: (234584, 203)\n",
      "Dataframe size after adding dummies to crashes columns:  (234584, 287)\n",
      "Dataframe size after adding dummies to vehicles columns:  (234584, 694)\n",
      "Dataframe size after adding dummies to peoples columns:  (234584, 929)\n",
      "last cell\n"
     ]
    }
   ],
   "source": [
    "import Preprocessing as pp\n",
    "\n",
    "#reload(pp)"
   ]
  },
  {
   "cell_type": "code",
   "execution_count": 6,
   "metadata": {},
   "outputs": [],
   "source": [
    "df=pp.cvp_ohe\n",
    "train_data=df.copy(deep=True)"
   ]
  },
  {
   "cell_type": "code",
   "execution_count": 7,
   "metadata": {},
   "outputs": [],
   "source": [
    "from sklearn.utils import shuffle\n",
    "train_data = shuffle(train_data)"
   ]
  },
  {
   "cell_type": "code",
   "execution_count": 8,
   "metadata": {},
   "outputs": [
    {
     "data": {
      "text/plain": [
       "(234584, 929)"
      ]
     },
     "execution_count": 8,
     "metadata": {},
     "output_type": "execute_result"
    }
   ],
   "source": [
    "train_data.shape"
   ]
  },
  {
   "cell_type": "code",
   "execution_count": 9,
   "metadata": {},
   "outputs": [],
   "source": [
    "train_labels=train_data[['PRIM_CONTRIBUTORY_CAUSE']].copy()\n",
    "train_data=train_data.drop(['PRIM_CONTRIBUTORY_CAUSE', 'SEC_CONTRIBUTORY_CAUSE'], axis=1)"
   ]
  },
  {
   "cell_type": "code",
   "execution_count": 10,
   "metadata": {},
   "outputs": [
    {
     "data": {
      "text/plain": [
       "(234584, 1)"
      ]
     },
     "execution_count": 10,
     "metadata": {},
     "output_type": "execute_result"
    }
   ],
   "source": [
    "train_labels.shape"
   ]
  },
  {
   "cell_type": "markdown",
   "metadata": {},
   "source": [
    "### Cross Validation"
   ]
  },
  {
   "cell_type": "code",
   "execution_count": 11,
   "metadata": {},
   "outputs": [],
   "source": [
    "scaler=StandardScaler()\n",
    "X_scaled=scaler.fit_transform(train_data)"
   ]
  },
  {
   "cell_type": "code",
   "execution_count": 12,
   "metadata": {},
   "outputs": [],
   "source": [
    "selector = VarianceThreshold()\n",
    "X1 = selector.fit_transform(X_scaled)"
   ]
  },
  {
   "cell_type": "code",
   "execution_count": 13,
   "metadata": {},
   "outputs": [
    {
     "name": "stdout",
     "output_type": "stream",
     "text": [
      "Cross validated score:  0.46020702684104514\n"
     ]
    }
   ],
   "source": [
    "#MLP\n",
    "clf = MLPClassifier(solver='lbfgs', alpha=1e-5, hidden_layer_sizes=(5, 2), random_state=1)\n",
    "score_MLP = cross_val_score(clf, X1, train_labels, cv=10, scoring='f1_weighted')\n",
    "score_MLP_mean = score_MLP.mean()\n",
    "print(\"Cross validated score: \", score_MLP_mean)"
   ]
  },
  {
   "cell_type": "code",
   "execution_count": 14,
   "metadata": {},
   "outputs": [
    {
     "name": "stdout",
     "output_type": "stream",
     "text": [
      "Cross validated score:  0.6014734754088917\n"
     ]
    }
   ],
   "source": [
    "#Bagging with DT\n",
    "\n",
    "clf = BaggingClassifier(DecisionTreeClassifier()) \n",
    "score_BDT = cross_val_score(clf, X1, train_labels, cv=10, scoring='f1_weighted')\n",
    "score_BDT_mean = score_BDT.mean()\n",
    "print(\"Cross validated score: \", score_BDT_mean)"
   ]
  },
  {
   "cell_type": "code",
   "execution_count": 15,
   "metadata": {},
   "outputs": [
    {
     "name": "stdout",
     "output_type": "stream",
     "text": [
      "Cross validated score:  0.5696766656293317\n"
     ]
    }
   ],
   "source": [
    "#LDA\n",
    "\n",
    "clf=LDA()\n",
    "score_LDA = cross_val_score(clf, X1, train_labels, cv=10, scoring='f1_weighted')\n",
    "score_LDA_mean = score_LDA.mean()\n",
    "print(\"Cross validated score: \", score_LDA_mean)"
   ]
  },
  {
   "cell_type": "code",
   "execution_count": 16,
   "metadata": {},
   "outputs": [
    {
     "name": "stdout",
     "output_type": "stream",
     "text": [
      "Cross validated score:  0.5747971236627658\n"
     ]
    }
   ],
   "source": [
    "#ET\n",
    "clf=ExtraTreesClassifier()\n",
    "score_ET = cross_val_score(clf, X1, train_labels, cv=10, scoring='f1_weighted')\n",
    "score_ET_mean = score_ET.mean()\n",
    "print(\"Cross validated score: \", score_ET_mean)"
   ]
  },
  {
   "cell_type": "code",
   "execution_count": 17,
   "metadata": {},
   "outputs": [
    {
     "name": "stdout",
     "output_type": "stream",
     "text": [
      "Cross validated score:  0.5906006426852821\n"
     ]
    }
   ],
   "source": [
    "#LR\n",
    "clf=LogisticRegression(random_state=0, solver='lbfgs', multi_class='multinomial')\n",
    "score_LR = cross_val_score(clf, X1, train_labels, cv=10, scoring='f1_weighted')\n",
    "score_LR_mean = score_LR.mean()\n",
    "print(\"Cross validated score: \", score_LR_mean)"
   ]
  },
  {
   "cell_type": "code",
   "execution_count": 18,
   "metadata": {},
   "outputs": [
    {
     "name": "stdout",
     "output_type": "stream",
     "text": [
      "Cross validated score:  0.5906006426852821\n"
     ]
    }
   ],
   "source": [
    "#RF\n",
    "clf=RandomForestClassifier(n_estimators=100, random_state=100)\n",
    "score_RF = cross_val_score(clf, X1, train_labels, cv=10, scoring='f1_weighted')\n",
    "score_RF_mean = score_RF.mean()\n",
    "\n",
    "print(\"Cross validated score: \", score_RF_mean)"
   ]
  },
  {
   "cell_type": "markdown",
   "metadata": {},
   "source": [
    "### Graph for cross validation scores for top performing algorithms"
   ]
  },
  {
   "cell_type": "code",
   "execution_count": 21,
   "metadata": {},
   "outputs": [
    {
     "data": {
      "image/png": "[encoded data removed]",
      "text/plain": [
       "<Figure size 432x288 with 1 Axes>"
      ]
     },
     "metadata": {},
     "output_type": "display_data"
    }
   ],
   "source": [
    "y = [score_MLP_mean, score_BDT_mean, score_LDA_mean, score_ET_mean, score_LR_mean, score_RF_mean]\n",
    "index = np.arange(len(y))\n",
    "\n",
    "plt.bar(index, y)\n",
    "plt.xlabel('Algorithms', fontsize=15)\n",
    "plt.ylabel('Mean scores in Cross Validation', fontsize=12)\n",
    "\n",
    "plt.xticks(np.arange(6), ('MLP', 'BDT', 'LDA', 'ET', 'LR', 'RF'), rotation=20)\n",
    "\n",
    "plt.title('Cross validation scores comparision')\n",
    "plt.show()"
   ]
  },
  {
   "cell_type": "markdown",
   "metadata": {},
   "source": [
    "### Comparison of F1 scores between Cross Validation and Train-Test-Split"
   ]
  },
  {
   "cell_type": "code",
   "execution_count": 34,
   "metadata": {},
   "outputs": [],
   "source": [
    "import pickle\n",
    "\n",
    "algorithm_1 = pickle.load(open(\"algorithm_1.p\",\"rb\"))\n",
    "algorithm_2 = pickle.load(open(\"algorithm_2.p\",\"rb\"))\n",
    "algorithm_3 = pickle.load(open(\"algorithm_3.p\",\"rb\"))"
   ]
  },
  {
   "cell_type": "code",
   "execution_count": 35,
   "metadata": {},
   "outputs": [],
   "source": [
    "\n",
    "for key in algorithm_1.keys():\n",
    "    var = key\n",
    "    exec(var + \" = algorithm_1[key]\")\n",
    "\n",
    "for key in algorithm_2.keys():\n",
    "    var = key\n",
    "    exec(var + \" = algorithm_2[key]\")\n",
    "\n",
    "for key in algorithm_3.keys():\n",
    "    var = key\n",
    "    exec(var + \" = algorithm_3[key]\")\n"
   ]
  },
  {
   "cell_type": "code",
   "execution_count": 36,
   "metadata": {},
   "outputs": [
    {
     "data": {
      "text/plain": [
       "dict_keys(['f1_score_micro_1_GNB1', 'f1_score_wt_1_GNB1', 'precision_score_wt_1_GNB1', 'recall_score_wt_1_GNB1', 'f1_score_micro_2_GNB2', 'f1_score_wt_2_GNB2', 'precision_score_wt_2_GNB2', 'recall_score_wt_2_GNB2', 'f1_score_micro_2_GNB3', 'f1_score_wt_2_GNB3', 'precision_score_wt_2_GNB3', 'recall_score_wt_2_GNB3', 'f1_score_micro_1_LR1', 'f1_score_wt_1_LR1', 'precision_score_wt_1_LR1', 'recall_score_wt_1_LR1', 'f1_score_micro_2_LR2', 'f1_score_wt_2_LR2', 'precision_score_wt_2_LR2', 'recall_score_wt_2_LR2', 'f1_score_tsvd_micro_LR3', 'f1_score_tsvd_wt_LR3', 'precision_score_tsvd_wt_LR3', 'recall_score_tsvd_wt_LR3', 'f1_score_micro_1_RF1', 'f1_score_wt_1_RF1', 'precision_score_wt_1_RF1', 'recall_score_wt_1_RF1', 'f1_score_micro_2_RF2', 'f1_score_wt_2_RF2', 'precision_score_wt_2_RF2', 'recall_score_wt_2_RF2', 'f1_score_micro_2_RF3', 'f1_score_wt_2_RF3', 'precision_score_wt_2_RF3', 'recall_score_wt_2_RF3', 'f1_score_micro_2_RF4', 'f1_score_wt_2_RF4', 'precision_score_wt_2_RF4', 'recall_score_wt_2_RF4'])"
      ]
     },
     "execution_count": 36,
     "metadata": {},
     "output_type": "execute_result"
    }
   ],
   "source": [
    "algorithm_1.keys()"
   ]
  },
  {
   "cell_type": "code",
   "execution_count": 40,
   "metadata": {},
   "outputs": [
    {
     "data": {
      "text/plain": [
       "<matplotlib.legend.Legend at 0x1a9cd79320>"
      ]
     },
     "execution_count": 40,
     "metadata": {},
     "output_type": "execute_result"
    },
    {
     "data": {
      "image/png": "[encoded data removed]",
      "text/plain": [
       "<Figure size 432x288 with 1 Axes>"
      ]
     },
     "metadata": {},
     "output_type": "display_data"
    }
   ],
   "source": [
    "#Comparison of Accuracy and F1Scores\n",
    "# cv_scores = [score_MLP_mean, score_BDT_mean, score_LDA_mean, score_ET_mean, score_LR_mean, score_RF_mean]\n",
    "tts_scores = [f1_score_wt_MLP2, f1_score_wt_BDT2, f1_score_wt_LDA2, f1_score_wt_ET2, f1_score_wt_2_LR2, f1_score_micro_2_RF2]\n",
    "cv_scores = [0.46020702684104514, 0.6014734754088917, 0.5696766656293317, 0.5747971236627658, 0.5906006426852821, 0.5906006426852821]\n",
    "ind = np.arange(len(cv_scores))  # the x locations for the groups\n",
    "width = 0.20  # the width of the bars\n",
    "\n",
    "fig, ax = plt.subplots()\n",
    "rects1 = ax.bar(ind - width/2, cv_scores, width, color='green', label='F1: cross-validation')\n",
    "rects2 = ax.bar(ind + width/2, tts_scores, width, color='yellow', label='F1: train-test split')\n",
    "\n",
    "ax.set_title('F1 Scores comparison between cross-validated scores and train-test split scores')\n",
    "ax.set_xticks(ind)\n",
    "ax.set_xticklabels(('MLP','BDT', 'LDA','ET', 'LR', 'RF'))\n",
    "ax.legend(loc='lower right')"
   ]
  },
  {
   "cell_type": "markdown",
   "metadata": {},
   "source": [
    "### GRID Search CV to predict better performing paramaters combination"
   ]
  },
  {
   "cell_type": "code",
   "execution_count": 11,
   "metadata": {},
   "outputs": [],
   "source": [
    "df1 = df.copy(deep=True)\n",
    "tr_lab = df1[['PRIM_CONTRIBUTORY_CAUSE']].copy()\n",
    "tr_dt = df1.drop(['PRIM_CONTRIBUTORY_CAUSE', 'SEC_CONTRIBUTORY_CAUSE'], axis=1)"
   ]
  },
  {
   "cell_type": "code",
   "execution_count": 12,
   "metadata": {},
   "outputs": [],
   "source": [
    "X_train, X_test, y_train, y_test = train_test_split(tr_dt, tr_lab,test_size=0.20,stratify=train_labels,random_state=42)\n",
    "\n",
    "scaler=StandardScaler()\n",
    "X_train_scaled=scaler.fit_transform(X_train)\n",
    "X_test_scaled=scaler.transform(X_test)\n",
    "\n",
    "selector = VarianceThreshold()\n",
    "X_train_fs = selector.fit_transform(X_train_scaled)\n",
    "X_ts_fs = selector.transform(X_test_scaled)"
   ]
  },
  {
   "cell_type": "code",
   "execution_count": 15,
   "metadata": {},
   "outputs": [],
   "source": [
    "from sklearn.model_selection import GridSearchCV\n",
    "\n",
    "parameters = {\n",
    "    'base_estimator__max_depth' : [ 3, 4, 5],\n",
    "    'max_samples' : [0.05, 0.1, 0.2, 0.5]\n",
    "}\n",
    "\n",
    "clf = BaggingClassifier(DecisionTreeClassifier())\n",
    "\n",
    "clf1 = GridSearchCV(clf, parameters, cv=10)\n",
    "\n",
    "clf1.fit(X_train_fs, y_train)\n",
    "\n",
    "out1 = clf1.predict(X_ts_fs)\n",
    "f1_score_micro_gs = f1_score(y_test, out1, average='micro')"
   ]
  }
 ],
 "metadata": {
  "kernelspec": {
   "display_name": "Python 3",
   "language": "python",
   "name": "python3"
  },
  "language_info": {
   "codemirror_mode": {
    "name": "ipython",
    "version": 3
   },
   "file_extension": ".py",
   "mimetype": "text/x-python",
   "name": "python",
   "nbconvert_exporter": "python",
   "pygments_lexer": "ipython3",
   "version": "3.6.5"
  }
 },
 "nbformat": 4,
 "nbformat_minor": 2
}
